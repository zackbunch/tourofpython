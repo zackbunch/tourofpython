{
 "cells": [
  {
   "cell_type": "markdown",
   "metadata": {},
   "source": [
    "*********************************************************************************************************\n",
    "# A Tour of Python 3  \n",
    "version 1.0.1  \n",
    "Authors: Phil Pfeiffer, Zack Bunch, and Feyisayo Oyeniyi  \n",
    "East Tennessee State University  \n",
    "Last updated June 2021  \n",
    "*********************************************************************************************************"
   ]
  },
  {
   "cell_type": "markdown",
   "metadata": {},
   "source": [
    "# 9.  File Processing  \n",
    " 9.1 [Overview](#File-Processing-Overview)  \n",
    " 9.2 [Identifying the next byte to read and/or write](#File-Processing-Tell)  \n",
    " 9.3 [Specifying the next location to read and/or write](#File-Processing-Seek)"
   ]
  },
  {
   "cell_type": "markdown",
   "metadata": {},
   "source": [
    "##  9.1  Overview <a name='File-Processing-Overview'></a>"
   ]
  },
  {
   "cell_type": "markdown",
   "metadata": {},
   "source": [
    "Python's run-time library includes routines for creating, reading, and deleting text (txt) and binary (bin) files, ",
    "along with routines for checking a file's status. ",
    "Python status-checking routines include two files for checking for a file's presence: `os.path.exists` and `os.path.isfile`."
   ]
  },
  {
   "cell_type": "code",
   "execution_count": null,
   "metadata": {},
   "outputs": [],
   "source": [
    "# 9.1.1.a showing the creation, reading, and deletion of a text file, along with logic to avoid\n",
    "# overwriting an existing file system object and to confirm that file creation and deletion succeeded.\n",
    "# version 1:  using close() to finish processing.\n",
    "\n",
    "# os - supporting Python library for operating system operations\n",
    "## os.path.exists - check if a path expression denotes an object of some sort\n",
    "## os.path.isfile - check if a path expression denotes a file\n",
    "## os.remove - remove the specified file\n",
    "\n",
    "import os \n",
    "\n",
    "OUTFILE = 'data.txt'   # file to be written\n",
    "\n",
    "if os.path.exists( OUTFILE ):\n",
    "  print( f'{OUTFILE} already exists; please remove or rename it and rerun the example' )\n",
    "else:\n",
    "  print( f'creating a text file named {OUTFILE}' )\n",
    "  try:\n",
    "    f = open( OUTFILE, 'w+' )\n",
    "    f.write( 'Data science is evolving really fast.\\n' )\n",
    "    f.write( 'Python has become a de facto standard language for data analysis.\\n' )\n",
    "    f.close( )\n",
    "    if os.path.isfile(OUTFILE):\n",
    "      print( f'{OUTFILE} created - displaying contents\\n' )\n",
    "      f = open( OUTFILE, 'r' )\n",
    "      while True:\n",
    "        line = f.readline()\n",
    "        if line == '': break\n",
    "        print( '>>  ', line, end='' )\n",
    "      f.close( )\n",
    "    else:\n",
    "      raise FileNotFoundError(OUTFILE)\n",
    "    print( f'\\ncleaning up - removing {OUTFILE}' )\n",
    "    os.remove( OUTFILE )\n",
    "    if os.path.exists(OUTFILE):\n",
    "      raise FileExistsError(OUTFILE)\n",
    "  except Exception as err:\n",
    "    print( f'could not access {OUTFILE}', '' if str(err) is None else f': {str(err)}' )"
   ]
  },
  {
   "cell_type": "code",
   "execution_count": null,
   "metadata": {},
   "outputs": [],
   "source": [
    "# 9.1.1.b showing the creation, reading, and deletion of a text file, along with logic to avoid\n",
    "# overwriting an existing file system object and to confirm that file creation and deletion succeeded.\n",
    "# version 2:  using 'with' to process the file, which eliminates the need for close().\n",
    "\n",
    "# os - supporting Python library for operating system operations\n",
    "## os.path.exists - check if a path expression denotes an object of some sort\n",
    "## os.path.isfile - check if a path expression denotes a file\n",
    "## os.remove - remove the specified file\n",
    "\n",
    "import os \n",
    "\n",
    "OUTFILE = 'data.txt'   # file to be written\n",
    "\n",
    "if os.path.exists( OUTFILE ):\n",
    "  print( f'{OUTFILE} already exists; please remove or rename it and rerun the example' )\n",
    "else:\n",
    "  print( f'creating a text file named {OUTFILE}' )\n",
    "  try:\n",
    "    with open( OUTFILE, 'w+' ) as f:\n",
    "      f.write( 'Data science is evolving really fast.\\n' )\n",
    "      f.write( 'Python has become a de facto standard language for data analysis.\\n' )\n",
    "    if os.path.isfile(OUTFILE):\n",
    "      print( f'{OUTFILE} created - displaying contents\\n' )\n",
    "      with open( OUTFILE, 'r' ) as f:\n",
    "        while True:\n",
    "          line = f.readline()\n",
    "          if line == '': break\n",
    "          print( '>>  ', line, end='' )\n",
    "    else:\n",
    "      raise FileNotFoundError(OUTFILE)\n",
    "    print( f'\\ncleaning up - removing {OUTFILE}' )\n",
    "    os.remove( OUTFILE )\n",
    "    if os.path.exists(OUTFILE):\n",
    "      raise FileExistsError(OUTFILE)\n",
    "  except Exception as err:\n",
    "    print( f'could not access {OUTFILE}', '' if str(err) is None else f': {str(err)}' )"
   ]
  },
  {
   "cell_type": "code",
   "execution_count": null,
   "metadata": {},
   "outputs": [],
   "source": [
    "# 9.1.2 showing the creation, reading, and deletion of a binary file, along with logic to avoid\n",
    "# overwriting an existing file system object and to confirm that file creation and deletion succeeded.\n",
    "# version 1:  using close() to finish processing.\n",
    "\n",
    "# os - supporting Python library for operating system operations\n",
    "## os.path.exists - check if a path expression denotes an object of some sort\n",
    "## os.path.isfile - check if a path expression denotes a file\n",
    "## os.remove - remove the specified file\n",
    "\n",
    "import os \n",
    "\n",
    "OUTFILE = 'data.bin'   # file to be written\n",
    "\n",
    "if os.path.exists( OUTFILE ):\n",
    "  print( f'{OUTFILE} already exists; please remove or rename it and rerun the example' )\n",
    "else:\n",
    "  print( f'creating a binary file named {OUTFILE}' )\n",
    "  try:\n",
    "    f = open( OUTFILE, 'wb' )\n",
    "    f.write( bytearray( [1, 2, 3, 4, 5]) )\n",
    "    f.close( )\n",
    "    if os.path.isfile(OUTFILE):\n",
    "      print( f'{OUTFILE} created - displaying contents\\n' )\n",
    "      f = open( OUTFILE, 'rb' )\n",
    "      f_contents = []\n",
    "      while True:\n",
    "        nextitem = f.read(1)\n",
    "        if nextitem == b'': break\n",
    "        f_contents.append( nextitem[0] )\n",
    "      print( ', '.join( [str(item) for item in f_contents] ) )\n",
    "      f.close( )\n",
    "    else:\n",
    "      raise FileNotFoundError(OUTFILE)\n",
    "    print( f'\\ncleaning up - removing {OUTFILE}' )\n",
    "    os.remove( OUTFILE )\n",
    "    if os.path.exists(OUTFILE):\n",
    "      raise FileExistsError(OUTFILE)\n",
    "  except Exception as err:\n",
    "    print( f'could not access {OUTFILE}', '' if str(err) is None else f': {str(err)}' )"
   ]
  },
  {
   "cell_type": "markdown",
   "metadata": {},
   "source": [
    "<span style='color:blue'>",
    "&#128073;&ensp;&ensp;**Exercise 9.1.1:**\n\n",
    "</span>",
    "<span style='color:navy'>",
    "In the following code cell, ",
    "redo the previous example, using Python's `with` statement to eliminate the calls to f.close().",
    "</span>"
   ]
  },
  {
   "cell_type": "code",
   "execution_count": null,
   "metadata": {},
   "outputs": [],
   "source": []
  },
  {
   "cell_type": "markdown",
   "metadata": {},
   "source": [
    "<span style='color:blue'>",
    "&#128073;&ensp;&ensp;**Exercise 9.1.2:**\n\n",
    "</span>",
    "<span style='color:navy'>",
    "Jupyter Notebook's kernel was developed by the [Interactive Python Project](https://ipython.org). ",
    "This kernel supports a collection of \"magic\" commands: extensions to the standard Python interpreter ",
    "whose names start with `%` (line-oriented commands) or `%%` (cell-oriented commands). ",
    "Can any of the line-oriented commands be used in place of Python's file primitives to create and populate these exercises' files? ",
    "What about file-oriented commands?  Explain. ",
    "</span>\n",
    "***\n"
   ]
  },
  {
   "cell_type": "markdown",
   "metadata": {},
   "source": [
    " \n"
   ]
  },
  {
   "cell_type": "markdown",
   "metadata": {},
   "source": [
    "***\n"
   ]
  },
  {
   "cell_type": "markdown",
   "metadata": {},
   "source": [
    "Python supports the following modes for opening files:  \n",
    "\n",
    " &ensp;&ensp; `r` - opens a file to read-only mode<br>\n",
    " &ensp;&ensp; `r+` - opens a file in read and write modes <br>\n",
    " &ensp;&ensp; `rb` - opens a file in binary and read-only modes <br> \n",
    " &ensp;&ensp; `w` -  allows write-level access to a file <br> \n",
    " &ensp;&ensp; `w+` - opens a file in read and write modes <br>\n",
    " &ensp;&ensp; `wb` - opens a file for writing in binary format\n"
   ]
  },
  {
   "cell_type": "markdown",
   "metadata": {},
   "source": [
    "##  9.2  Identifying the next byte to read or write <a name='File-Processing-Tell'></a>"
   ]
  },
  {
   "cell_type": "markdown",
   "metadata": {},
   "source": [
    "Python uses a cursor called the file pointer to track the next byte to read and/or write. \n",
    "`tell()` returns the file pointer's current position in a file.\n"
   ]
  },
  {
   "cell_type": "code",
   "execution_count": null,
   "metadata": {},
   "outputs": [],
   "source": [
    "# 9.2 showing the use of tell to track progress through a file.\n",
    "\n",
    "import os \n",
    "\n",
    "OUTFILE = 'data.txt'   # file to be written\n",
    "\n",
    "if os.path.exists( OUTFILE ):\n",
    "   print( f'{OUTFILE} already exists; please remove or rename it and rerun the example' )\n",
    "else:\n",
    "   print( f'creating a text file named {OUTFILE}' )\n",
    "   try:\n",
    "     with open( OUTFILE, 'w+' ) as f:\n",
    "       f.write( 'Data science is evolving really fast.\\n' )\n",
    "       f.write( 'Python has become a de facto standard language for data analysis.\\n' )\n",
    "     if os.path.isfile(OUTFILE):\n",
    "       print( f'{OUTFILE} created - displaying contents\\n' )\n",
    "       with open( OUTFILE, 'r' ) as f:\n",
    "         while True:\n",
    "           start_position = f.tell()\n",
    "           line = f.readline()\n",
    "           if line == '':\n",
    "             print( f'at char {start_position}>>   <EOF>' )\n",
    "             break\n",
    "           print( f'at char {start_position}>>   ', line, end='' )\n",
    "     else:\n",
    "       raise FileNotFoundError(OUTFILE)\n",
    "     print( f'\\ncleaning up - removing {OUTFILE}' )\n",
    "     os.remove( OUTFILE )\n",
    "     if os.path.exists(OUTFILE):\n",
    "       raise FileExistsError(OUTFILE)\n",
    "   except Exception as err:\n",
    "     print( f'could not access {OUTFILE}', '' if str(err) is None else f': {str(err)}' )"
   ]
  },
  {
   "cell_type": "markdown",
   "metadata": {},
   "source": [
    "##  9.3  Specifying the next location to read and/or write <a name='File-Processing-Seek'></a>"
   ]
  },
  {
   "cell_type": "markdown",
   "metadata": {},
   "source": [
    "`seek()` changes a file's next byte position to value of its argument. ",
    "`seek(0)` seeks to the start of a file. ",
    "`seek(n, 1)` moves the current position n characters, relative to the current file position. ",
    "`seek(n, 1)` with a negative (i.e., backward) offset of n only works when a file is opened in binary mode.\n",
    "\n",
    "These examples print a file's contents in reverse order. ",
    "They use the `st_size` field from the descriptor returned by `os.stat` to determine a file's size, ",
    "together with seek() to effectively move backwards through a file."
   ]
  },
  {
   "cell_type": "code",
   "execution_count": null,
   "metadata": {},
   "outputs": [],
   "source": [
    "# 9.3.1 showing the use of repeated seek()s to move through a binary file in reverse order\n",
    "\n",
    "import os \n",
    "\n",
    "OUTFILE = 'data.bin'   # file to be written\n",
    "\n",
    "if os.path.exists( OUTFILE ):\n",
    "  print( f'{OUTFILE} already exists; please remove or rename it and rerun the example' )\n",
    "else:\n",
    "  print( f'creating a binary file named {OUTFILE}' )\n",
    "  try:\n",
    "    f = open( OUTFILE, 'wb' )\n",
    "    f.write( bytearray( [1, 2, 3, 4, 5]) )\n",
    "    f.close( )\n",
    "    if os.path.isfile(OUTFILE):\n",
    "      print( f'{OUTFILE} created - displaying contents\\n' )\n",
    "      f_contents = []\n",
    "      with open( OUTFILE, 'rb' ) as f:\n",
    "        f.seek( os.stat(f.fileno()).st_size -1 )    # seek to the file's final byte\n",
    "        while True:\n",
    "          f_contents.append( f.read(1)[0] )\n",
    "          if f.tell() == 1:  break\n",
    "          f.seek(-2, 1)                            # back up by one byte from current position\n",
    "      print( ', '.join( [str(item) for item in f_contents] ) )\n",
    "    else:\n",
    "      raise FileNotFoundError(OUTFILE)\n",
    "    print( f'\\ncleaning up - removing {OUTFILE}' )\n",
    "    os.remove( OUTFILE )\n",
    "    if os.path.exists(OUTFILE):\n",
    "      raise FileExistsError(OUTFILE)\n",
    "  except Exception as err:\n",
    "    print( f'could not access {OUTFILE}', '' if str(err) is None else f': {str(err)}' )"
   ]
  },
  {
   "cell_type": "code",
   "execution_count": null,
   "metadata": {},
   "outputs": [],
   "source": [
    "# 9.3.2  showing the use of repeated seek()s to move through a text file in reverse order\n",
    "\n",
    "import os \n",
    "\n",
    "OUTFILE = 'data.txt'   # file to be written\n",
    "\n",
    "if os.path.exists( OUTFILE ):\n",
    "  print( f'{OUTFILE} already exists; please remove or rename it and rerun the example' )\n",
    "else:\n",
    "  print( f'creating a text file named {OUTFILE}' )\n",
    "  try:\n",
    "    with open( OUTFILE, 'w+' ) as f:\n",
    "      f.write('Department of Computing\\n')\n",
    "      f.write('East Tennessee State University\\n')\n",
    "      f.write('Johnson City, TN\\n')\n",
    "      f.write('\\n')\n",
    "      f.write('Attn: Phil Pfeiffer\\n')\n",
    "    if os.path.isfile(OUTFILE):\n",
    "      print( f'{OUTFILE} created - displaying contents in reverse order\\n' )\n",
    "      with open( OUTFILE, 'r' ) as f:\n",
    "        this_byte = os.stat(f.fileno()).st_size -1   # os.stat requires a file descriptor as its argument\n",
    "        previous_char = ''    # hack for Windows text files, which mark EOL with two characters, rather than one\n",
    "        while this_byte >= 0:\n",
    "          f.seek(0)           # return to start of file\n",
    "          f.seek(this_byte)   # then seek to this byte\n",
    "          this_char = f.read(1)\n",
    "          if ( this_char == '\\n' ) and ( previous_char == '\\n' ):\n",
    "            previous_char = ''   # managing a Windows annoyance - Python treats <CR><LF> as \\n\\n\n",
    "                                 # make sure that multiple blank lines print correctly\n",
    "          else:\n",
    "            print( this_char, end='' )\n",
    "            previous_char = this_char\n",
    "          this_byte -= 1\n",
    "    else:\n",
    "      raise FileNotFoundError(OUTFILE)\n",
    "    print( f'\\n\\ncleaning up - removing {OUTFILE}' )\n",
    "    os.remove( OUTFILE )\n",
    "    if os.path.exists(OUTFILE):\n",
    "      raise FileExistsError(OUTFILE)\n",
    "  except Exception as err:\n",
    "    print( f'could not access {OUTFILE}', '' if str(err) is None else f': {str(err)}' )"
   ]
  },
  {
   "cell_type": "markdown",
   "metadata": {},
   "source": [
    "<span style='color:blue'>",
    "&#128073;&ensp;&ensp;**Exercise 9.3.1:**\n\n",
    "</span>",
    "<span style='color:navy'>",
    "In the following code cell, ",
    "modify the previous example to obtain a program that prints a text file's lines in reverse order, ",
    "where each line's content is displayed in normal order. ",
    "Use the Python library's `seek` library to successively identify line breaks, adding a line break after the file's last line ",
    "if the file ends without a break.",
    "</span>"
   ]
  },
  {
   "cell_type": "code",
   "execution_count": null,
   "metadata": {},
   "outputs": [],
   "source": []
  },
  {
   "cell_type": "markdown",
   "metadata": {},
   "source": [
    "<span style='color:blue'>",
    "&#128073;&ensp;&ensp;**Exercise 9.3.2:**\n\n",
    "</span>",
    "<span style='color:navy'>",
    "In the following markdown cell, ",
    "account for why Python's file processing routines, like other languages' routines, limit reverse seeks to binary files. ",
    "Hint: search for a reference on UTF-8 and other standards for character encoding.",
    "</span>\n",
    "***\n"
   ]
  },
  {
   "cell_type": "markdown",
   "metadata": {},
   "source": [
    "\n"
   ]
  },
  {
   "cell_type": "markdown",
   "metadata": {},
   "source": [
    "***\n"
   ]
  }
 ],
 "metadata": {
  "kernelspec": {
   "display_name": "Python 3",
   "language": "python",
   "name": "python3"
  },
  "language_info": {
   "codemirror_mode": {
    "name": "ipython",
    "version": 3
   },
   "file_extension": ".py",
   "mimetype": "text/x-python",
   "name": "python",
   "nbconvert_exporter": "python",
   "pygments_lexer": "ipython3",
   "version": "3.9.2"
  }
 },
 "nbformat": 4,
 "nbformat_minor": 2
}
