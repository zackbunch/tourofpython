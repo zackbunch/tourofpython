{
 "cells": [
  {
   "cell_type": "markdown",
   "metadata": {},
   "source": [
    "*********************************************************************************************************\n",
    "# A Tour of Python 3  \n",
    "version 1.0.1  \n",
    "Authors: Phil Pfeiffer, Zack Bunch, and Feyisayo Oyeniyi  \n",
    "East Tennessee State University  \n",
    "Last updated June 2021  \n",
    "\n",
    "Chapter 17: author Micah DePetro; ed. Phil Pfeiffer  \n",
    "*********************************************************************************************************"
   ]
  },
  {
   "cell_type": "markdown",
   "metadata": {},
   "source": [
    "# 17. ChainMaps  \n",
    " 17.1 [Overview](#ChainMaps-Overview)  \n",
    " 17.2 [Accessing values within a ChainMap](#ChainMaps-Accessor-Methods)  \n",
    " 17.3 [Manipulating values within a ChainMap](#ChainMaps-Manipulator-Methods)"
   ]
  },
  {
   "cell_type": "markdown",
   "metadata": {},
   "source": [
    "# 17. ChainMaps <a name='Python-ChainMaps'></a>"
   ]
  },
  {
   "cell_type": "markdown",
   "metadata": {},
   "source": [
    "## 17.1 Overview<a name='ChainMaps-Overview'></a>"
   ]
  },
  {
   "cell_type": "markdown",
   "metadata": {},
   "source": [
    "Python's `collections` library includes ChainMap, a container class that links multiple dictionaries into a single, dictionary-like unit.",
    " The class provides methods that access and manipulate data in all of a ChainMap's dictionaries.\n",
    "\n",
    "Accessor methods include the following:\n",
    "- `keys` - displays all of a ChainMap's keys\n",
    "- `values` - displays all of a ChainMap's values\n",
    "- `maps` - displays all of a ChainMap's constituent maps\n",
    "\n",
    "Manipulator methods include the following:\n",
    "- `new_child` - inserts a child into the beginning of the ChainMap\n",
    "- `parent` - returns a new ChainMap without the first dictionary\n",
    "- `reversed` - returns an ChainMap in reverse order."
   ]
  },
  {
   "cell_type": "markdown",
   "metadata": {},
   "source": [
    "##  17.2  Accessors <a name='ChainMaps-Accessor-Methods'></a>"
   ]
  },
  {
   "cell_type": "code",
   "execution_count": null,
   "metadata": {},
   "outputs": [],
   "source": [
    "# 17.2. showing accessors for displaying a ChainMap's keys, values, and mappings.\n",
    "\n",
    "import collections\n",
    "\n",
    "dict1 = {'Dog' : 'Puppy', 'Cat' : 'Kitten'}\n",
    "dict2 = {'Frog' : 'Tadpole', 'Rabbit' : 'Bunny'}\n",
    "\n",
    "animals = collections.ChainMap(dict1, dict2)\n",
    "\n",
    "print(\"ChainMap Contents: \" + str(animals.maps) + '\\n')\n",
    "print(\"Keys in ChainMap: \" + str(list(animals.keys())) + '\\n')\n",
    "print(\"Values in ChainMap: \" + str(list(animals.values())) + '\\n')"
   ]
  },
  {
   "cell_type": "markdown",
   "metadata": {},
   "source": [
    "<span style='color:blue'>",
    "&#128073;&ensp;&ensp;**Exercise 17.2.1:**\n\n",
    "</span>",
    "<span style='color:navy' >",
    "In the following code cell, ",
    " create ChainMaps from dictionaries that share a key, varying the order in which the dictionaries are entered into the ChainMaps.",
    " Use the operator [ ] to access the shared key. Account for your result.",
    "</span>"
   ]
  },
  {
   "cell_type": "code",
   "execution_count": null,
   "metadata": {},
   "outputs": [],
   "source": []
  },
  {
   "cell_type": "markdown",
   "metadata": {},
   "source": [
    "## 17.3 Manipulators<a name='ChainMaps-Manipulator-Methods'></a>"
   ]
  },
  {
   "cell_type": "code",
   "execution_count": null,
   "metadata": {
    "scrolled": true
   },
   "outputs": [],
   "source": [
    "# 17.3 showing ChainMap manipulators for adding new dictionaries,\n",
    "# removing dictionaries, and reversing the order of a ChainMap's dictionaries.\n",
    "\n",
    "import collections\n",
    "\n",
    "dict1 = {'Dog' : 'Puppy', 'Cat' : 'Kitten'}\n",
    "dict2 = {'Dog' : 'Doggy', 'Rabbit' : 'Bunny'}\n",
    "dict3 = {'Kangaroo : Joey'}\n",
    "\n",
    "animals = collections.ChainMap(dict1, dict2)\n",
    "print(\"Original Chain: \" + str(animals.maps) + '\\n')\n",
    "\n",
    "animals = animals.new_child(dict3)\n",
    "print(\"Chain after inserting dict3: \" + str(animals.maps) + '\\n')\n",
    "\n",
    "animals.maps = reversed(animals.maps)\n",
    "print(\"Reversed Chain: \" + str(animals))"
   ]
  },
  {
   "cell_type": "markdown",
   "metadata": {},
   "source": [
    "<span style='color:blue'>",
    "&#128073;&ensp;&ensp;**Exercise 17.3.1:**\n\n",
    "</span>",
    "<span style='color:navy' >",
    "In the following code cell, ",
    "use a ChainMap to show a nested scope (parent and child relationship) with the manipulator methods above.",
    "</span>"
   ]
  },
  {
   "cell_type": "code",
   "execution_count": null,
   "metadata": {},
   "outputs": [],
   "source": []
  }
 ],
 "metadata": {
  "kernelspec": {
   "display_name": "Python 3",
   "language": "python",
   "name": "python3"
  },
  "language_info": {
   "codemirror_mode": {
    "name": "ipython",
    "version": 3
   },
   "file_extension": ".py",
   "mimetype": "text/x-python",
   "name": "python",
   "nbconvert_exporter": "python",
   "pygments_lexer": "ipython3",
   "version": "3.9.1"
  }
 },
 "nbformat": 4,
 "nbformat_minor": 5
}
