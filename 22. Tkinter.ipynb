{
 "cells": [
  {
   "cell_type": "markdown",
   "metadata": {},
   "source": [
    "*********************************************************************************************************\n",
    "# A Tour of Python 3  \n",
    "version 1.0.1  \n",
    "Authors: Phil Pfeiffer, Zack Bunch, and Feyisayo Oyeniyi  \n",
    "East Tennessee State University  \n",
    "Last updated June 2021  \n",
    "\n",
    "Chapter 22: author Wyatt Stine, ed. Phil Pfeiffer  \n",
    "*********************************************************************************************************"
   ]
  },
  {
   "cell_type": "markdown",
   "metadata": {},
   "source": [
    "# 22.  Tkinter  \n",
    " 22.1 [Overview](#tkinter-Overview)  \n",
    " 22.2 [Frames](#tkinter-Frames)  \n",
    " &ensp; 22.2.1 [Frame Instantiation](#tkinter-Frame-Instantiation)  \n",
    " &ensp; 22.2.2 [Adding Widgets to a Frame](#tkinter-Adding-Widgets-to-a-Frame)"
   ]
  },
  {
   "cell_type": "markdown",
   "metadata": {},
   "source": [
    "## 22.1 Overview <a name='tkinter-Overview'></a>"
   ]
  },
  {
   "cell_type": "markdown",
   "metadata": {},
   "source": [
    "Python's `tkinter` library serves as an interface to John Ousterhout’s Tk() GUI development toolkit. ",
    "`tkinter` provides managed drawing canvases known as *frames*, together with objects known as *widgets* for populating frames. \n",
    "\n",
    "`tkinter`'s commonly used widgets include labels, buttons, and spin boxes: \n",
    "- Labels display text or images. They take two parameters: the frame that houses the label and a set of options that control how they are displayed. \n",
    "- Buttons allow users to use mouse clicks to interact with a GUI. Buttons can display images or text that denotes their function. ",
    "`tkinter` supports several types of buttons, including radio buttons, and check boxes. \n",
    "- Spin boxes allow a user to select from a set of fixed values. Other widgets for value selection include entry widgets and combo boxes. \n",
    "\n",
    "While `tkinter` is in common use, the official Python website provides relatively little documentation on it. ",
    "What follows is a modest introduction to `tkinter` functionality. ",
    "One way to learn more about `tkinter` is to search websites for examples and experiment. ",
    "Another starting point is documentation on `tkinter` Moin’s page of references to ",
    "[`tkinter` tutorials and documentation](https://wiki.python.org/moin/TkInter), ",
    "which includes a reference to the [Tcl/Tk manual pages.](https://www.tcl.tk/man/)"
   ]
  },
  {
   "cell_type": "markdown",
   "metadata": {},
   "source": [
    "## 22.2 Frames <a name='tkinter-Frames'></a>"
   ]
  },
  {
   "cell_type": "markdown",
   "metadata": {},
   "source": [
    "The `tkinter` frame widget houses all other widgets in a `tkinter` GUI."
   ]
  },
  {
   "cell_type": "markdown",
   "metadata": {},
   "source": [
    "### 22.2.1 Frame Instantiation <a name='tkinter-Frame-Instantiation'>"
   ]
  },
  {
   "cell_type": "code",
   "execution_count": null,
   "metadata": {},
   "outputs": [],
   "source": [
    "# 22.2.1.a creating a GUI frame\n",
    "\n",
    "#Import tkinter library\n",
    "from tkinter import *\n",
    "\n",
    "#Create an instance of Tkinter frame\n",
    "frame = Tk()\n",
    "#create an event loop to run the GUI\n",
    "frame.mainloop()\n",
    "\n",
    "#Iron Python's %reset command deletes all created variables in a notebook.\n",
    "%reset -f"
   ]
  },
  {
   "cell_type": "code",
   "execution_count": null,
   "metadata": {},
   "outputs": [],
   "source": [
    "# 22.2.1.b changing the frame dimensions\n",
    "\n",
    "#import tkinter library\n",
    "from tkinter import *\n",
    "\n",
    "#create an instance of tkinter frame\n",
    "frame = Tk()\n",
    "#resize the frame\n",
    "frame.geometry('350x200')\n",
    "#create an event loop to run the GUI\n",
    "frame.mainloop()\n",
    "\n",
    "#Iron Python's %reset command deletes all created variables in a notebook.\n",
    "%reset -f"
   ]
  },
  {
   "cell_type": "code",
   "execution_count": null,
   "execution_count": null,
   "metadata": {},
   "outputs": [],
   "source": [
    "# 22.2.1.c changing the frame title\n",
    "\n",
    "#import tkinter library\n",
    "from tkinter import *\n",
    "\n",
    "#create an instance of tkinter frame\n",
    "frame = Tk()\n",
    "#resize the frame\n",
    "frame.geometry('350x200')\n",
    "#change the displayed name of the frame\n",
    "frame.title('hello, world!')\n",
    "#create an event loop to run the GUI\n",
    "frame.mainloop()\n",
    "\n",
    "#Iron Python's %reset command deletes all created variables in a notebook.\n",
    "%reset -f"
   ]
  },
  {
   "cell_type": "markdown",
   "metadata": {},
   "source": [
    "<span style='color:blue'>",
    "&#128073;&ensp;&ensp;**Exercise 22.2.1.1:**\n\n",
    "</span>",
    "<span style='color:blue' >",
    "In the following markdown cell, ",
    "explain what happens when you try to execute one of the previous examples without creating an event loop.",
    "</span>\n",
    "***\n"
   ]
  },
  {
   "cell_type": "markdown",
   "metadata": {},
   "source": [
    "\n"
   ]
  },
  {
   "cell_type": "markdown",
   "metadata": {},
   "source": [
    "***"
   ]
  },
  {
   "cell_type": "markdown",
   "metadata": {},
   "source": [
    "## 22.2.2 Adding Widgets to a Frame <a name='tkinter-Adding-Widgets-to-a-Frame'>"
   ]
  },
  {
   "cell_type": "code",
   "execution_count": null,
   "metadata": {},
   "outputs": [],
   "source": [
    "# 22.2.1.d adding label widgets to a frame\n",
    "\n",
    "#import tkinter library\n",
    "from tkinter import *\n",
    "\n",
    "#create an instance of tkinter frame\n",
    "frame = Tk()\n",
    "#resize the frame\n",
    "frame.geometry('350x200')\n",
    "#change the displayed name of the frame\n",
    "frame.title('adding labels to a frame')\n",
    "#adding labels to the frame\n",
    "example1_label = Label(frame, text = 'this is example 1').place(x = 60, y = 40)\n",
    "example2_label = Label(frame, text = 'this is example 2').pack(side = LEFT)\n",
    "#create an event loop to run the GUI\n",
    "frame.mainloop()\n",
    "\n",
    "#Iron Python's %reset command deletes all created variables in a notebook.\n",
    "%reset -f"
   ]
  },
  {
   "cell_type": "markdown",
   "metadata": {},
   "source": [
    "<span style='color:blue'>",
    "&#128073;&ensp;&ensp;**Exercise 22.2.1.2:**\n\n",
    "</span>",
    "<span style='color:blue' >",
    "In the following markdown cell, ",
    "explain the difference between using place() and pack() for formatting a frame's widgets",
    "</span>\n",
    "***\n"    
   ]
  },
  {
   "cell_type": "markdown",
   "metadata": {},
   "source": [
    "\n"
   ]
  },
  {
   "cell_type": "markdown",
   "metadata": {},
   "source": [
    "***"
   ]
  },
  {
   "cell_type": "code",
   "execution_count": null,
   "metadata": {},
   "outputs": [],
   "source": [
    "# 22.2.2.a adding button widgets to a frame\n",
    "\n",
    "#import tkinter library\n",
    "from tkinter import *\n",
    "\n",
    "#create an instance of tkinter frame\n",
    "frame = Tk()\n",
    "#resize the frame\n",
    "frame.geometry('350x200')\n",
    "#change the displayed name of the frame\n",
    "frame.title('adding buttons to a frame')\n",
    "#adding a button to the frame\n",
    "example1_button = Button(frame, text = 'this is example 1').pack(side = BOTTOM)\n",
    "#create an event loop to run the GUI\n",
    "frame.mainloop()\n",
    "\n",
    "#Iron Python's %reset command deletes all created variables in a notebook.\n",
    "%reset -f"
   ]
  },
  {
   "cell_type": "code",
   "execution_count": null,
   "metadata": {},
   "outputs": [],
   "source": [
    "# 22.2.2.b adding a menu widget to a frame\n",
    "\n",
    "#import tkinter library\n",
    "from tkinter import *\n",
    "\n",
    "#create an instance of tkinter frame\n",
    "frame = Tk()\n",
    "#resize the frame\n",
    "frame.geometry('350x200')\n",
    "#change the displayed name of the frame\n",
    "frame.title('adding a spin box to a frame')\n",
    "#adding a spin box to the frame\n",
    "spinbox_example = Spinbox(frame, from_=0, to=10).pack()\n",
    "#create an event loop to run the GUI\n",
    "frame.mainloop()\n",
    "\n",
    "#Iron Python's %reset command deletes all created variables in a notebook.\n",
    "%reset -f"
   ]
  }
 ],
 "metadata": {
  "kernelspec": {
   "display_name": "Python 3",
   "language": "python",
   "name": "python3"
  },
  "language_info": {
   "codemirror_mode": {
    "name": "ipython",
    "version": 3
   },
   "file_extension": ".py",
   "mimetype": "text/x-python",
   "name": "python",
   "nbconvert_exporter": "python",
   "pygments_lexer": "ipython3",
   "version": "3.9.1"
  }
 },
 "nbformat": 4,
 "nbformat_minor": 5
}
