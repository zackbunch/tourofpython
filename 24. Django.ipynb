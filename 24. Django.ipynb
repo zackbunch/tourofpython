{
 "cells": [
  {
   "cell_type": "markdown",
   "metadata": {},
   "source": [
    "*********************************************************************************************************\n",
    "# A Tour of Python 3  \n",
    "version 1.0.1  \n",
    "Authors: Phil Pfeiffer, Zack Bunch, and Feyisayo Oyeniyi  \n",
    "East Tennessee State University  \n",
    "Last updated June 2021  \n",
    "\n",
    "Chapter 24: author Johnathan Graybeal, ed. Phil Pfeiffer  \n",
    "*********************************************************************************************************\n",
    "\n"
   ]
  },
  {
   "cell_type": "markdown",
   "metadata": {},
   "source": [
    "# 24. Django  \n",
    " 24.1 [Overview](#Django-Overview)  \n",
    " 24.2 [Installation](#Django-Installation)  \n",
    " &ensp; 24.2.2 [Getting Django and Jupyter to Work Together](#Django-Getting-Django-And-Jupyter-to-Work-Together)  \n",
    " 24.3 [Model-View-Template](#Django-Model-View-Template)  \n",
    " &ensp; 24.3.1 [Models](#Django-Models)  \n",
    " &ensp; 24.3.2 [Views](#Django-Views)  \n",
    " &ensp; 24.3.3 [Templates](#Django-Templates)  \n",
    " &ensp; 24.3.4 [Filters](#Django-Filters)  \n",
    " 24.4 [Lightweight Alternatives to Django](#Django-Lightweight-Alternatives-to-Django)  \n",
    " &ensp; 24.4.1 [Flask](#Django-Flask)  \n",
    " &ensp; 24.4.2 [Pyramid](#Django-Pyramid)  \n",
    " "
   ]
  },
  {
   "cell_type": "markdown",
   "metadata": {},
   "source": [
    "# 24.1  Overview <a name='Django-Overview'></a>"
   ]
  },
  {
   "cell_type": "markdown",
   "metadata": {},
   "source": [
    "Django (pronounced jang-oh) is an open-source framework for developing web applications. Django was named for ",
    "[Django Reinhardt](https://en.wikipedia.org/wiki/Django_Reinhardt), ",
    "a noteworthy, pre-WWII jazz guitarist who performed and recorded with the ",
    "Quintette de [Hot Club de France](https://en.wikipedia.org/wiki/Hot_Club_de_France). ", 
    "The Django framework was developed in 2003 by Adrian Holovaty and Simon Willison, two developers at World Online, a former news media company. ",
    "It was released in 2005 as an open-source project. As of this writing, the latest stable version, 3.2, was released in February 2021. \n",
    "  \n",
    "Django is a large and multifaceted platform. Due in part to its wealth of features, ",
    "Django has been used to develop some of the world's most trafficked sites, ",
    "including Instagram, Mozilla, National Geographic, Pinterest, and Disqus. ",
    "It allows developers to prototype a running website in a matter of hours. ",
    "It provides components for managing common website features, including user accounts and permissions, ",
    "framework plugins, and defenses against SQL injection and cross-site scripting (XSS). \n",
    "  \n",
    "This unit introduces basic aspects of Django setup and usage. For more on Django, including an extensive tutorial, consult ",
    "[the Django project website](https://docs.djangoproject.com/en/3.2/)"
   ]
  },
  {
   "cell_type": "markdown",
   "metadata": {},
   "source": [
    "## 24.2  Installation <a name='Django-Installation'></a>"
   ]
  },
  {
   "cell_type": "markdown",
   "metadata": {},
   "source": [
    "Installing Django in a Python virtual environment limits Django’s dependencies to that environment, ",
    " thereby avoiding conflicts with other applications’ environmental requirements. ",
    "To install Django,\n",
    "- Under Windows,  \n",
    "\n",
    "   1. Create a directory for the Django virtual environment. The commands below use `$path$` to denote this directory’s absolute path \n",
    "   2. Add this directory to `venv`’s virtual directory path, using `py -m venv $path$`.  This will create a Scripts sub-directory  \n",
    "   3. Activate the virtual environment, using `$path$/Scripts/Activate.bat`\n",
    "   4. Update `pip` with `py -m pip install -U pip`\n",
    "   \n",
    "   \n",
    "- Under Mac or Unix,  \n",
    "  \n",
    "   1. Create a directory for the Django virtual environment. The commands below use `$path$` to denote this directory’s absolute path \n",
    "   2. Add this directory to `venv`’s virtual directory path, using `python3 -m venv $path$`  \n",
    "   3. Activate the virtual environment, using `source $path$/bin/activate`. \n",
    "  On the command line, you should now see something like (your virtual environment name). \n",
    "   4. Update `pip` with `python3 -m pip install -U pip`  \n",
    "   5. Finally, install Django, using `python3 -m pip install Django` "
   ]
  },
  {
   "cell_type": "markdown",
   "metadata": {},
   "source": [
    "### 24.2.2  Getting Django and Jupyter to Work Together <a name='Django-Getting-Django-And-Jupyter-to-Work-Together'></a>"
   ]
  },
  {
   "cell_type": "markdown",
   "metadata": {},
   "source": [
    "Getting Django and Jupyter Notebook to work together can be troublesome since they are both web frameworks.  \n",
    "\n",
    "1. First, make sure that Jupyter is installed in your virtual environment. ",
    " Use `pip install notebook` to confirm that it isn't installed with `pip list`; this occurs because the virtual environment is self contained.  \n",
    "2. Create a Django project with `django-admin starproject yourprojectname`. ",
    " This will create a yourprojectname directory in your working directory; it should look similar to this: \n",
    "   \n",
    "       yourprojectname/  \n",
    "        manage.py  \n",
    "        yourprojectname/  \n",
    "            __init__.py  \n",
    "            settings.py  \n",
    "            urls.py  \n",
    "            asgi.py  \n",
    "            wsgi.py  \n",
    "\n",
    "3. Run `py manage.py startapp yourappname`. This creates another directory that contains your models and views. ",
    "After running the command, add the name of the app you just made to the INSTALLED_APPS array in settings.py. ",
    " The difference between the project that was created in step 2 and the app that this step names is that the project refers to the entire application ",
    " and the app refers to a submodule within the project.  All apps within a project are self-contained. ",
    " After running the previous command your directory structure should now look similar to this.  \n",
    "   \n",
    "       yourprojectname/  \n",
    "        manage.py  \n",
    "        yourappname/  \n",
    "            __init.py__.py  \n",
    "            admin.py  \n",
    "            migrations/  \n",
    "                __init__.py  \n",
    "            models.py  \n",
    "            tests.py  \n",
    "            views.py  \n",
    "        yourprojectname/  \n",
    "            __init__.py  \n",
    "            settings.py  \n",
    "            urls.py  \n",
    "            asgi.py  \n",
    "            wsgi.py  \n",
    "\n",
    "4. Copy the code in example 24.2.2 into your Jupyter notebook. ",
    " The original code can be found at this ",
    " [gist website](https://gist.github.com/codingforentrepreneurs/76e570d759f83d690bf36a8a8fa4cfbe). ",
    " The author also has [a Youtube video on his work](https://www.youtube.com/watch?v=t3mk_u0rprM). \n",
    "\n",
    "5. Run that code. For the argument use `yourprojectname`."
   ]
  },
  {
   "cell_type": "code",
   "execution_count": null,
   "metadata": {},
   "outputs": [],
   "source": [
    "# 24.2.2 code found at the gist link that should allow jupyter and django to work together \n",
    "import os, sys\n",
    "PWD = os.getenv('PWD')\n",
    "\n",
    "PROJ_MISSING_MSG = \"\"\"Set an environment variable:\\n\n",
    "`DJANGO_PROJECT=your_project_name`\\n\n",
    "or call:\\n\n",
    "`init_django(your_project_name)`\n",
    "\"\"\"\n",
    "\n",
    "def init_django(project_name=None):\n",
    "  os.chdir(PWD)\n",
    "  project_name = project_name or os.environ.get('DJANGO_PROJECT') or None\n",
    "  if project_name == None:\n",
    "    raise Exception(PROJ_MISSING_MSG)\n",
    "  sys.path.insert(0, os.getenv('PWD'))\n",
    "  os.environ.setdefault('DJANGO_SETTINGS_MODULE', f'{project_name}.settings')\n",
    "  os.environ[\"DJANGO_ALLOW_ASYNC_UNSAFE\"] = \"true\"\n",
    "  import django\n",
    "  django.setup()"
   ]
  },
  {
   "cell_type": "markdown",
   "metadata": {},
   "source": [
    "## 24.3  Model-View-Template <a name='Django-Model-View-Template'></a>"
   ]
  },
  {
   "cell_type": "markdown",
   "metadata": {},
   "source": [
    "Django uses a software design pattern called Model-View-Template (MVT). MVT is a variant of the Model-View-Controller (MVC) pattern, ",
    "a common website application architecture in use by (e.g.) Asp.Net and Ruby on Rails. The MVC pattern includes three interacting elements: \n",
    "   - A *model*, which acts as an interface to a web application’s persistent data: typically, its database.  \n",
    "   - One or more *views*, each of which presents content from the model to the site’s users.  \n",
    "   - A *controller*, which links the site’s values to the Model, responding to requests to access and update the model’s data. \n",
    "  \n",
    "MVT differs from MVC in its use of templates to manage site operation. ",
    " In MVC, developers write the controller; in MVT, they create templates, ",
    " which drive front-end control by interacting with a framework-provided controller."
   ]
  },
  {
   "cell_type": "markdown",
   "metadata": {},
   "source": [
    "### 24.3.1  Models <a name='Django-Models'></a>"
   ]
  },
  {
   "cell_type": "markdown",
   "metadata": {},
   "source": [
    "Django models define a site’s persistent data. Django’s database, which stores a site’s persistent data, defaults to SQLite. ",
    "The database’s host and type are specified in settings.py; Django supports relational database systems and NoSQL systems. ",
    "Setting up NoSQL is more complex and is not covered here.\n",
    "\n",
    "Every Django model inherits from `django.db.models.Model`. Each of a model’s attributes maps directly to a database field.",
    " Each field's type can be directly specified, using values such as varchar2 (50).",
    " Each model entry is assigned a numeric ID; by default, this is automatic, but can be overridden.\n",
    "\n",
    "To configure or reconfigure a database after creating or changing a model,  \n",
    "  \n",
    "  1. Add the name of the website’s app to the list named INSTALLED_APPS in `settings.py` ",
    "  [as described above](#Django-Getting-Django-And-Jupyter-to-Work-Together).  \n",
    "  2. Run py `manage.py makemigrations`. This tells Django to look for changes to the models.  \n",
    "  3. Run `py manage.py migrate`. This tells Django to make and commit those changes. ",
    " You can also run `py manage.py sqlmigrate` to see the generated sql code. ",
    " This command when the migration completes will also generate an artifact in the migrations directory. ",
    " This is similar to git version control; creating migrations allows you to rollback to a previous version of your application if needed. \n",
    "\n",
    "Detailed information about models can be obtained [here](https://docs.djangoproject.com/en/3.2/topics/db/models/)\n."
   ]
  },
  {
   "cell_type": "code",
   "execution_count": null,
   "metadata": {},
   "outputs": [],
   "source": [
    "#24.3.1.a example of what a model would look like \n",
    "\n",
    "from django.db import models\n",
    "\n",
    "# Create your models here.\n",
    "\n",
    "\n",
    "class Dealer(models.Model):\n",
    "  dealer_name = models.CharField(max_length=50)\n",
    "  salesperson = models.CharField(max_length=50)\n",
    "\n",
    "\n",
    "class Car(models.Model):\n",
    "  make = models.CharField(max_length=20)\n",
    "  model = models.CharField(max_length=50)\n",
    "  dealer = models.ForeignKey(Dealer, on_delete=models.CASCADE)"
   ]
  },
  {
   "cell_type": "markdown",
   "metadata": {},
   "source": [
    "Django's built-in admin page can be used to add objects to and delete them from a database. To do so,  \n",
    "  \n",
    "1. Enable the admin page’s controls by running `py manage.py runserver`. This will open a local server were you can build and test your website  \n",
    "2. Browse to your local host address that the previous command gave you.\n",
    "3. Create admin credentials, as follows:  \n",
    "    3.1. Run `py manage.py createsuperuser`  \n",
    "    3.2. Follow the on-screen prompts.  \n",
    "4. In your codebase, open admin.py.  \n",
    "5. import the models, using a command like `from .models import Car, Dealer`.  \n",
    "6. Register them with `admin.site.register(model_name)`. This last step enables admin-page-based access to the site's models that you registered.  \n",
    "7. Browse to your localhost/admin. \n",
    "8. Enter the credentials that you made with `createsuperuser`. ",
    "After logging in, you should see the models that you just registered (viz. step 6) in a list of models.  \n",
    "9. Clicking on one of them enables you to add or delete an instance of that model.  \n",
    "  \n",
    "How to customize the admin page, including the attributes it displays and allows to be manipulated, is explained ",
    " [here](https://docs.djangoproject.com/en/3.2/ref/contrib/admin/)."
   ]
  },
  {
   "cell_type": "code",
   "execution_count": null,
   "metadata": {},
   "outputs": [],
   "source": [
    "#24.3.1.b example of how to register models  \n",
    "\n",
    "from django.contrib import admin\n",
    "\n",
    "# Register your models here.\n",
    "from .models import Car, Dealer\n",
    "\n",
    "admin.site.register(Dealer)\n",
    "admin.site.register(Car)"
   ]
  },
  {
   "cell_type": "markdown",
   "metadata": {},
   "source": [
    "### 24.3.2  Views <a name='Django-Views'></a>"
   ]
  },
  {
   "cell_type": "markdown",
   "metadata": {},
   "source": [
    "Views define the content that an app’s front end presents, including its functions for interacting with users. ",
    "Each of these functions’ first parameters is always a HTTP Request object, typically called *request*. ",
    "Views also pass a context dictionary to its underlying template. This dictionary consists of (key (i.e., variable name), value) pairs. ",
    "Views will usually delegate requests to a template and render that template’s returned value as a response. \n",
    "  \n",
    "The following sample code requests the primary key of car. ",
    " This key, which was automatically generated by Django, allows any instance of a model to be uniquely identifiable. ",
    " If the id that is provided exists within the model, the code will render car_details.html. ",
    " Otherwise, it renders a 404 (not found) page. ",
    " While Django also has a module that returns a 404 page, it’s best practice to return a custom page.  \n",
    "\n",
    " More information about views can be found ",
    " [here](https://docs.djangoproject.com/en/3.2/topics/http/views/)."
   ]
  },
  {
   "cell_type": "code",
   "execution_count": null,
   "metadata": {},
   "outputs": [],
   "source": [
    "# 24.3.2.a  example of a view\n",
    "\n",
    "from django.shortcuts import render\n",
    "from cars.models import Car\n",
    "def car_details(request,car_id):\n",
    "  try:\n",
    "    c = Car.objects.get(pk=car_id)\n",
    "  except:\n",
    "    return render(request, 'cars/404.html')\n",
    "  return render(request, 'cars/car_details.html', {'car':c})"
   ]
  },
  {
   "cell_type": "markdown",
   "metadata": {},
   "source": [
    "Views are also responsible for specifying the URLs that are used to access a site's templates. ",
    "To customize a site's URLs, do the following:  \n",
    "  \n",
    "1. Open urls.py   \n",
    "2. Import your view functions from views  \n",
    "3. Add a path method that accepts the URL and the view function as arguments to the urlpatterns list. ",
    "  If a view function requires parameters, specify each as a &lt;*datatype:parametername*> element, where ",
    " *datatype* is a type such as int or float and *parametername* is the name of the parameter passed to the function.  \n",
    " \n",
    "More information on customizing urls can be found ",
    " [here]( https://docs.djangoproject.com/en/3.1/topics/http/urls/)."
   ]
  },
  {
   "cell_type": "code",
   "execution_count": null,
   "metadata": {},
   "outputs": [],
   "source": [
    "# 24.3.2.b  example of how to create a custom url not intended to be executed\n",
    "\n",
    "from django.contrib import admin\n",
    "from django.urls import path\n",
    "from .views import car_details\n",
    "\n",
    "urlpatterns = [\n",
    "  path('admin/', admin.site.urls),\n",
    "  path('car_details/<int:car_id>',views.car_details)\n",
    "]"
   ]
  },
  {
   "cell_type": "markdown",
   "metadata": {},
   "source": [
    "### 24.3.3  Templates <a name='Django-Templates'></a>"
   ]
  },
  {
   "cell_type": "markdown",
   "metadata": {},
   "source": [
    "A (web) template is specification for a web page. ",
    "It consists of a static html page with logic that specifies how to insert dynamically generated content into that page and what to insert. ",
    "Templates can also contain CSS and Javascript. \n",
    "\n",
    "Languages for template definition are known as *template languages*. ",
    "Django is designed to work with its own, custom default template language, known as Django Template Language (DJL). ",
    "While other template languages such as jinja2 can be used with Django, Django’s developers advise against this. ",
    "DJL, which supports the use of Python to specify web page content, enables the use of loops and condition checking to populate pages. ",
    "It also provides support for form validation and security.\n",
    "\n",
    "DJL does not allow developers to instantiate variables. ",
    "It does, however, allow template logic to reference variables in context dictionaries (as mentioned in [Views](#Django-Views)), ",
    "using syntax like `{{variable_name}}`. ",
    "Attributes of data structures and objects can be accessed with dot notation, using syntax like `{{my_list.0}}`.\n",
    "\n",
    "In DJL, built-in constructs, including control structures and security logic, are written as tags. ",
    "The syntax is `{% tagname %}`. Most control structures such as an “if” statement require an ending tag: ",
    " e.g., `{%if condition %}` *do something* `{% endif %}`. ",
    " One example of a security tag, `{% csrf_token %}`, defines a value for defending against cross-site request forgery attacks. ",
    "For the full list of tags, visit ",
    " [the official documentation page](https://docs.djangoproject.com/en/3.2/ref/templates/builtins/#ref-templates-builtins-tags)."
   ]
  },
  {
   "cell_type": "markdown",
   "metadata": {},
   "source": [
    "### 24.3.4  Filters <a name='Django-Filters'></a>"
   ]
  },
  {
   "cell_type": "markdown",
   "metadata": {},
   "source": [
    "A final type of DJL construct, a filter, is a routine for transforming values. Filters are written as `{{value|filter}}`.  ",
    " An example filter is pluralize: `{{value | pluralize}}`. ",
    " The list of built-in filters can be found ",
    " [here](https://docs.djangoproject.com/en/3.2/ref/templates/builtins/#ref-templates-builtins-filters)"
   ]
  },
  {
   "cell_type": "markdown",
   "metadata": {},
   "source": [
    "## 24.4  Lightweight Alternatives to Django <a name='Django-Lightweight-Alternatives-to-Django'></a>"
   ]
  },
  {
   "cell_type": "markdown",
   "metadata": {},
   "source": [
    "Django has been characterized as a heavyweight framework: one with multiple ways of implementing features that can take considerable time to master. ",
    " Lightweight frameworks, by contrast, provide fewer features but less initial study. ",
    " Two of Python’s more popular lightweight frameworks are Flask and Pyramid."
   ]
  },
  {
   "cell_type": "markdown",
   "metadata": {},
   "source": [
    "### 24.4.1  Flask <a name='Django-Flask'></a>"
   ]
  },
  {
   "cell_type": "markdown",
   "metadata": {},
   "source": [
    "[Flask](https://flask.palletsprojects.com/en/1.1.x/) is a small, highly extensible framework that enables “web development one drop at a time”. ",
    " It allows developers to exclude unneeded components from websites, but requires them to ensure ",
    " that the components that they use and create mesh correctly. "
   ]
  },
  {
   "cell_type": "markdown",
   "metadata": {},
   "source": [
    "### 24.4.2  Pyramid <a name='Django-Pyramid'></a>"
   ]
  },
  {
   "cell_type": "markdown",
   "metadata": {},
   "source": [
    "[Pyramid](https://trypyramid.com/), another microframework, calls itself “the start small, finish big, stay finished framework”. ",
    " Pyramid’s developers sought to give developers a level of flexibility to design processes than heavyweight frameworks ",
    " like Django fail to provide. This includes the ability to choose from among several template management components, ",
    " including jinja2. ",
    " Typically, Pyramid is more suited for experienced developers. "
   ]
  }
 ],
 "metadata": {
  "kernelspec": {
   "display_name": "Python 3",
   "language": "python",
   "name": "python3"
  },
  "language_info": {
   "codemirror_mode": {
    "name": "ipython",
    "version": 3
   },
   "file_extension": ".py",
   "mimetype": "text/x-python",
   "name": "python",
   "nbconvert_exporter": "python",
   "pygments_lexer": "ipython3",
   "version": "3.9.1"
  }
 },
 "nbformat": 4,
 "nbformat_minor": 5
}
