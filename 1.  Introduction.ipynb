{
 "cells": [
  {
   "cell_type": "markdown",
   "metadata": {},
   "source": [
    "*********************************************************************************************************\n",
    "# A Tour of Python 3  \n",
    "version 1.0.1  \n",
    "Authors: Phil Pfeiffer, Zack Bunch, and Feyisayo Oyeniyi  \n",
    "East Tennessee State University  \n",
    "Last updated June 2021  \n",
    "*********************************************************************************************************"
   ]
  },
  {
   "cell_type": "markdown",
   "metadata": {},
   "source": [
    "# 1. Introduction \n",
    " 1.1 [The Tour's Purpose](#Introduction-This-Document-Purpose)  \n",
    " &ensp; 1.1.1 [Overview](#Introduction-This-Document-Purpose-Overview)  \n",
    " &ensp; 1.1.2 [About Python](#Introduction-This-Document-Purpose-About-Python)  \n",
    " &ensp; 1.1.3 [About Jupyter Notebooks](#Introduction-This-Document-Purpose-About-Jupyter-Notebooks)  \n",
    " 1.2 [The Tour's Content](#Introduction-This-Document-Content)  \n",
    " &ensp; 1.2.1 [Design](#Introduction-This-Document-Content-Design)  \n",
    " &ensp; 1.2.2 [Assumptions and Preconditions](#Introduction-This-Document-Content-Assumptions-and-Preconditions)  \n"
   ]
  },
  {
   "cell_type": "markdown",
   "metadata": {},
   "source": [
    "## 1.1  The Tour's Purpose <a name='Introduction-This-Document-Purpose'></a>"
   ]
  },
  {
   "cell_type": "markdown",
   "metadata": {},
   "source": [
    "### 1.1.1 Overview <a name='Introduction-This-Document-Purpose-Overview'></a>"
   ]
  },
  {
   "cell_type": "markdown",
   "metadata": {},
   "source": [
    "This document is a hands-on tutorial for the Python programming language.  ",
    "It's intended for people who have programmed in a contemporary object-oriented programming language, like C++, Java, or C#,  ",
    "and are familiar with concepts like polymorphism, inheritance, and encapsulation.  ",
    "Reasons for studying Python include the following:\n",
    "-  Its widespread adoption by the software community, as attested to by\n",
    "   -  its high ranking at 'mindshare' websites like [www.tiobe.com](https://tiobe.com)\n",
    "   -  its use in enterprises like Google and the U.S. Dept. of Energy;\n",
    "   -  its open-source license and extensive set of libraries\n",
    "-  Its widespread adoption by the scientific community, thanks to free, open source libraries like NumPy and SciPy\n",
    "-  Its support for multiple programming paradigms\n",
    "-  Its interactive, command-line-based interpreter, which affords more rapid feedback than classic compiler-based languages\n",
    "\n",
    "This version of the Tour covers material through Python 3.8. ",
    "It is not a guide for Python versions 1.x and 2.x, neither of which is compatible with Python 3."
   ]
  },
  {
   "cell_type": "markdown",
   "metadata": {},
   "source": [
    "### 1.1.2  About Python <a name='Introduction-This-Document-Purpose-About-Python'></a>"
   ]
  },
  {
   "cell_type": "markdown",
   "metadata": {},
   "source": [
    "Python was created by a Dutch graduate student, Guido von Rossum, as an easy-to-use language for programming distributed operating systems. ",
    "The original Python manifesto, which is still displayed by Python interpreters when one executes `import this`, ",
    "describes Python as a language that provides exactly one, best way of doing things. "
   ]
  },
  {
   "cell_type": "code",
   "execution_count": null,
   "metadata": {},
   "outputs": [],
   "source": [
    "# 1.1.2  The original Python manifesto\n",
    "\n",
    "import this"
   ]
  },
  {
   "cell_type": "markdown",
   "metadata": {},
   "source": [
    "Over time, Python has become as feature-rich-- or, for some, as bloated-- as most contemporary object-oriented (OO) languages. ",
    "Still, Python's syntax and interpreter make it easy for even beginners to quickly write simple code.\n",
    "\n",
    "This wealth of features is due, in part, to Python's support for three major programming paradigms.\n",
    "-  It's *procedural*: i.e., logic can be framed in terms of \"plain old\" loops, functions, and assignment statements.\n",
    "-  It's *object-oriented*: i.e., logic can be packaged into classes, along with classic mechanisms of class-based logic,\n",
    "-  It supports *functional programming*, including operators on streams of values.\n",
    "\n",
    "Examples of all three paradigms are featured on this tutorial.\n",
    "\n",
    "Due to Python's size, doing Python justice requires a thorough review of [Python's documentation](https://docs.python.org/3/), ",
    "together with supporting references like Mark Lutz's <u>Learning Python</u>, 5th edition, ",
    "Mark Summerfield's <u>Python3 </u>, and ",
    "Douglas Hellman's <u>The Python 3 Standard Library by Example</u>. ",
    "This document's explanations, examples, and exercises are meant to convey a feel for key language features, ",
    "as well as for what differentiates interpreted languages like Python from compiled languages: e.g.,\n",
    "-  the ability to dynamically generate and execute code\n",
    "-  the joys and headaches of type-declaration-free variable management\n",
    "-  the lack of true information hiding"
   ]
  },
  {
   "cell_type": "markdown",
   "metadata": {},
   "source": [
    "### 1.1.3  About Jupyter Notebooks <a name='Introduction-This-Document-Purpose-About-Jupyter-Notebooks'></a>"
   ]
  },
  {
   "cell_type": "markdown",
   "metadata": {},
   "source": [
    "This document is best viewed in [Jupyter notebooks](https://jupyter.org/): preferably Jupyter Notebook 6.1.5 or better, with Jupyter Core 4.7.0 or better. ",
    "Be wary of earlier versions of Jupyter, ",
    "at least one of which had an issue with a dependency that required ",
    "[a post-installation change to a third party library](https://stackoverflow.com/questions/54805213/jupyter-notebook-cannot-start-with-python-3-8-in-windows-10). \n",
    "\n",
    "The Jupyter Notebook App supports two modes: command mode and edit mode. The following are Windows and Linux shortcuts for both modes:\n",
    "- `Shift + Enter` - run the current cell, select below\n",
    "- `Ctrl + Enter` - run selected cells\n",
    "- `Alt + Enter` - run the current cell, insert below\n",
    "- `Ctrl + S` - save and checkpoint\n",
    "\n",
    "Mac users have different buttons for Ctrl, Shift, and Alt:\n",
    "- `Ctrl` - command key ⌘\n",
    "- `Shift` - Shift ⇧\n",
    "- `Alt` - option ⌥\n",
    "\n",
    "By default, Jupyter autosaves changes to notebooks every 120 seconds. ",
    "The Python 3 notebook interface lacks a control for changing this setting. ",
    "This time interval can, however, be set to `n` seconds by executing the command `%autosave n` in a notebook cell, ",
    "or disabled by entering `%autosave 0`."
   ]
  },
  {
   "cell_type": "markdown",
   "metadata": {},
   "source": [
    "#### Jupyter Command Mode Commands <a name='Jupyter-Command-Mode-Commands'></a>"
   ]
  },
  {
   "cell_type": "markdown",
   "metadata": {},
   "source": [
    "While in command mode (press Esc to activate):\n",
    "- `Enter` - changes to edit mode\n",
    "- `H` - show all shortcuts\n",
    "- `Up` - select cell above\n",
    "- `Down` - select cell below\n",
    "- `Shift + Up` - extend selected cells above\n",
    "- `Shift + Down` - extend selected cells below\n",
    "- `A` - insert cell above\n",
    "- `B` - insert cell below\n",
    "- `X` - cut selected cells\n",
    "- `C` - copy selected cells\n",
    "- `V` - paste cells below\n",
    "- `Shift + V` - paste cells above\n",
    "- `D, D` (press the key twice) - delete selected cells\n",
    "- `Z` - undo cell deletion\n",
    "- `S` - save and checkpoint\n",
    "- `Y` - change the cell type to Code\n",
    "- `M` - change the cell type to Markdown\n",
    "- `P` - open the command palette. This palette is really useful for identifying shortcuts for desired commands."
   ]
  },
  {
   "cell_type": "markdown",
   "metadata": {},
   "source": [
    "## 1.2  The Tour's Content <a name='Introduction-This-Document-Content'></a>"
   ]
  },
  {
   "cell_type": "markdown",
   "metadata": {},
   "source": [
    "### 1.2.1 Design <a name='Introduction-This-Document-Content-Design'></a>"
   ]
  },
  {
   "cell_type": "markdown",
   "metadata": {},
   "source": [
    "The Tour is structured as a bottom-up tutorial of Python's features. ",
    "This approach reflects the first author's belief in the importance of learning a language's rudiments as a basis for understanding its capabilities. ",
    "Different languages, like different artistic media, have strengths and limitations. ",
    "These variations influence practice, to the extent of suggesting approaches to executing designs. \n",
    "\n",
    "While language developers have blurred the classic distinction between compiled and interpreted languages, ",
    "Python's inclusion of standard elements of classic interpreted languages-- the lack of type declarations, the highly dynamic nature of object instantiation, ",
    "support for latent ('duck') typing, and support for the on-the-fly creation and execution of dynamically created code-- ",
    "gives Python a significantly different feel from languages like C, C++, and Java. ",
    "Much of this tutorial is devoted to highlighting these differences.\n",
    "\n",
    "Part 1 of the Tour covers what the authors viewed as the language's core features. ",
    "An earlier version of Part 1 was used as a text for the first half of the first author's 'Python for Programmers' special topics course, taught at ETSU in spring 2021. ",
    "Much of Part 1 was developed over a period of eight years by the first author. ",
    "It started as a text file, then was converted to a Jupyter Notebook in Fall 2019, at the urging of the Tour's second author, ETSU alumnus Zack Bunch.\n",
    "\n",
    "Part 2 introduces functionality from a variety of supporting libraries, including a few of Python's standard libraries ",
    "and a variety of supporting libraries and frameworks that, while in common use, are not in the standard distribution .",
    "Part 2 is largely the work of students in the spring 2021 offering of 'Python for Programmers'. ",
    "Their contributions are acknowledged at the head of these chapters.\n",
    "\n",
    "Overall, the narrative attempts to alternate clear characterizations of key Python constructs with codes that illustrate these constructs' syntax and semantics. ",
    "All examples were designed to be self-contained, so as to allow each to be run on a Windows 10 platform, in any order. ",
    "In some cases, this goal has required examples to create and execute sample programs in the Tour's working directory. ",
    "For these examples, care has been taken to include codes that reject attempts to overwrite existing items in users' directories ",
    "and to remove all temporary files that an exercise creates, using a Python function like `shutil.remove`. ",
    "Do note that these temporary files can be examined, if desired, by replacing calls to `shutil.remove` with `pass` statements, ",
    "then referring to the leftover artifacts in the current directory once the example has quit executing."
   ]
  },
  {
   "cell_type": "markdown",
   "metadata": {},
   "source": [
    "### 1.2.2 Assumptions and Preconditions <a name='Introduction-This-Document-Content-Assumptions-and-Preconditions'></a>"
   ]
  },
  {
   "cell_type": "markdown",
   "metadata": {},
   "source": [
    "The exercises in this Notebook were tested in spring 2021 on Windows 10 platforms running Python 3.9.1, with Jupyter Notebook 6.1.5 and Jupyter Core 4.7.0. ",
    "Some of the exercises require permission to create subdirectories and files in the working directory and to remove these artifacts after running them. ",
    "Others--particularly those in Part 2--require users to install common third party packages, like NumPy, SciPy, and Matplotlib. ",
    "In each of these cases, the text states what packages are required and provides directions for installing them. \n",
    "\n",
    "Given Python's and Jupyter's support for cross-platform execution, most of these codes should run under Linux and Mac, possibly with minor changes to ",
    "environment parameters like the names of well-known directories and Python's executable.  ",
    "Indeed, several of the students in 'Python for Programmers' used these other platforms to run the Tour and develop their contributions to Part 2. ",
    "Currently, however, the only supported platform is Windows 10."
   ]
  }
 ],
 "metadata": {
  "kernelspec": {
   "display_name": "Python 3",
   "language": "python",
   "name": "python3"
  },
  "language_info": {
   "codemirror_mode": {
    "name": "ipython",
    "version": 3
   },
   "file_extension": ".py",
   "mimetype": "text/x-python",
   "name": "python",
   "nbconvert_exporter": "python",
   "pygments_lexer": "ipython3",
   "version": "3.9.2"
  }
 },
 "nbformat": 4,
 "nbformat_minor": 2
}
