{
 "cells": [
  {
   "cell_type": "markdown",
   "metadata": {},
   "source": [
    "*********************************************************************************************************\n",
    "# A Tour of Python 3  \n",
    "version 1.0.1  \n",
    "Authors: Phil Pfeiffer, Zack Bunch, and Feyisayo Oyeniyi  \n",
    "East Tennessee State University  \n",
    "Last updated June 2021  \n",
    "\n",
    "Chapter 23: author Ashley Baxter, ed. Phil Pfeiffer  \n",
    "*********************************************************************************************************"
   ]
  },
  {
   "cell_type": "markdown",
   "metadata": {},
   "source": [
    "# 23.  PyQt </a>  \n",
    " 23.1 [Overview](#PyQt-Overview)  \n",
    " &ensp; 23.1.1 [About PyQt](#PyQt-Overview-About-PyQt)  \n",
    " &ensp; 23.1.2 [Installation](#PyQt-Overview-Installation)  \n",
    " &ensp; 23.1.3 [Window Management](#PyQt-Overview-Window-Management)  \n",
    " 23.2 [QApplication](#PyQt-QApplication)  \n",
    " 23.3 [QWidgets](#PyQt-QWidgets)  \n",
    " &ensp; 23.3.1 [QLabel](#PyQt-QWidgets-QLabel)  \n",
    " &ensp; 23.3.2 [QPushButton](#PyQt-QWidgets-QPushButton)  \n",
    " &ensp; 23.3.3 [QRadioButton](#PyQt-QWidgets-QRadioButton)  \n",
    " &ensp; 23.3.4 [QCombobox](#PyQt-QWidgets-QLabel-Combobox)  \n",
    " 23.4 [QWidget Layout](#PyQt-QWidget-Layout)  "
   ]
  },
  {
   "cell_type": "markdown",
   "metadata": {},
   "source": [
    "## 23.1  Overview <a name = 'PyQt-Overview'></a>"
   ]
  },
  {
   "cell_type": "markdown",
   "metadata": {},
   "source": [
    "### 23.1.1  About PyQt <a name = 'PyQt-Overview-About-PyQt'></a>"
   ]
  },
  {
   "cell_type": "markdown",
   "metadata": {},
   "source": [
    "PyQt is a Python wrapper for Qt, a graphical user interface (GUI) framework created for C++. ",
    "Reasons for PyQt's popularity include its simplicity, ",
    "its support for multiple platforms (Windows, OS, Linux, iOS, and Android) and form factors (desktop, mobile, and embedded), ",
    "and its large library of predefined widgets. \n",
    "\n",
    "This document is a tutorial for PyQt version 5. ",
	"PyQt, while not as easy to learn as the smaller TKinter, provides a larger library of more advanced widgets ",
    "with a more modern look. ",
	"PyQt also has Qt Designer, a visual tool for creating Qt-based front ends that runs on Windows or Linux.\n",
    "\n",
    "**Note**: For reasons that are unclear, running some of the following examples under Windows apparently kills Jupyter's kernel. ",
    "Clicking the 'dead kernel' indicator on Jupyter's status bar and rerunning the example seems to fix the problem."
   ]
  },
  {
   "cell_type": "markdown",
   "metadata": {},
   "source": [
    "### 23.1.2  Installation <a name = 'PyQt-Overview-Installation'></a>"
   ]
  },
  {
   "cell_type": "markdown",
   "metadata": {},
   "source": [
    "PyQt, unlike Tkinter, is not part of the standard Python library.  To install it, do the following:\n",
    "-  For Windows, with Python version 3.5 or later\n",
    "   -  `python -m install pyqt5`\n",
    "   -  `pip install pyqt5`\n",
    "-  For virtual installation (if you don't want to modify your machine)\n",
    "   -  `python3 -m venv pyqtvenv`\n",
    "   -  `source pyqtvenv/bin/activate`\n",
    "   -  `pip install pyqt5`\n",
    "-  For Linux with Ubuntu 18.04\n",
    "   -  `sudo apt install python3-pyqt5`\n",
    "-  Mac using Homebrew\n",
    "   -  `brew install pyqt5`\n"
   ]
  },
  {
   "cell_type": "markdown",
   "metadata": {},
   "source": [
    "### 23.1.3  Window Management <a name='PyQt-Overview-Window-Management'></a>"
   ]
  },
  {
   "cell_type": "markdown",
   "metadata": {},
   "source": [
    "PyQt supports two primary objects for defining windows. ",
    "One, [`QMainWindow`](https://doc.qt.io/qt-5/qmainwindow.html), ",
    "provides objects for defining and displaying toolbars (`QToolBars`), dock widgets (`QDockWidgers`), ",
    "menu bars (`QMenuBar`), and status bars (`QStatusBar`). ",
    "The other, `QApplication`, is this tutorial's primary focus. \n",
    "\n",
    "All codes for creating PyQt GUIs require the following logic for the GUI to run correctly. \n",
    "-  `import sys` - important for exit status handling\n",
    "-  `from PyQt5.QtWidgets import *` - imports all PyQt5 QWidgets \n",
    "-   for initializing a PyQt application, one of two commands:\n",
    "    -  `app = QApplication(sys.argv)`\n",
    "    -  `app = QApplication([])`\n",
    "-   for creating a window, one of two commands:\n",
    "    -  `window = QWidget()` \n",
    "    -  `window = QWidget()` \n",
    "-  `window.show()` - required if the window is a QWidget and not a QMainWindow for the window to be seen\n",
    "-  `sys.exit(app.exec_())` - `app.exec_()` starts the event loop and `sys.exit` is wrapped around for a clean exit\n",
    "\n",
    "Two methods support the overall management of a window's state: \n",
    "-  `saveState` - saves a window's current state \n",
    "-  `restoreState` - restores a window's state to a previously saved state"
   ]
  },
  {
   "cell_type": "code",
   "execution_count": null,
   "metadata": {},
   "outputs": [],
   "source": [
    "# 23.1.3  Code for raising a PyQt window\n",
    "\n",
    "import sys\n",
    "from PyQt5.QtWidgets import *\n",
    "\n",
    "app=QApplication(sys.argv)\n",
    "window = QWidget()\n",
    "window.show()\n",
    "sys.exit(app.exec_())"
   ]
  },
  {
   "cell_type": "markdown",
   "metadata": {},
   "source": [
    "## 23.2  QApplication <a name='PyQt-QApplication'></a>"
   ]
  },
  {
   "cell_type": "markdown",
   "metadata": {},
   "source": [
    "PyQT's `QApplication` object manages a GUI's control flow and principal settings. ",
    "Programs should instantiate one `QApplication` object when using `QWidget`. \n",
    "\n",
    "`QApplication`'s methods include `beep` and `setFont`:\n",
    "-  `beep` - directs a user's terminal to issue a bell-like sound; is not available in the embedded Linux version.\n",
    "-  `setFont` - specifies an application's font. \n",
    "\n",
    "`QApplication` can be invoked in one of two ways, depending on how a program should handle command line arguments:\n",
    "- `QApplication(sys.argv)` - takes command line arguments\n",
    "- `QApplication([])` - for a program that does not take command line arguments"
   ]
  },
  {
   "cell_type": "code",
   "execution_count": null,
   "metadata": {},
   "outputs": [],
   "source": [
    "# 23.2.1  Example of a QApplication\n",
    "\n",
    "import sys\n",
    "\n",
    "from PyQt5.QtWidgets import QApplication\n",
    "from PyQt5.QtWidgets import QLabel\n",
    "from PyQt5.QtWidgets import QHBoxLayout\n",
    "from PyQt5.QtWidgets import QPushButton\n",
    "from PyQt5.QtWidgets import QWidget\n",
    "\n",
    "app = QApplication(sys.argv)\n",
    "\n",
    "window = QWidget()\n",
    "window.setWindowTitle('PyQt 5 App')\n",
    "window.setGeometry(100, 100, 280, 80)\n",
    "window.move(60, 15)\n",
    "helloMsg = QLabel('<h1>Hello World!</h1>', parent=window)\n",
    "helloMsg.move(60, 15)\n",
    "\n",
    "window.show()\n",
    "sys.exit(app.exec_())"
   ]
  },
  {
   "cell_type": "markdown",
   "metadata": {},
   "source": [
    "## 23.3  QWidgets <a name='PyQt-QWidgets'></a>"
   ]
  },
  {
   "cell_type": "markdown",
   "metadata": {},
   "source": [
    "QWidget is the widget base class. It also serves as a means for creating a GUI: \n",
    "\n",
    " &ensp;&ensp; `window = QWidget()`\n",
    "\n",
    "QWidget and its child classes act as event-catchers that emit signals. ",
    "Signals are generated by an object's changes of state. ",
    "They can be configured to trigger actions in response to changes in state.  ",
    "This is done by associating signals with slots and other signals. \n",
    "\n",
    "Slots are the methods or functions where an action is defined. ",
    "A slot can be associated with one or more signals.\n",
    "\n",
    "The following are some of the more commonly used methods supported by QWidget and its child classes:\n",
    "-  `setWindowTitle()` - sets a window's title\n",
    "-  `setWindowIcon()` - sets a window's icon\n",
    "-  `setGeometry(x, y, width, height)` - sets a window's position, width, and height\n",
    "-  `show` - displays a widget and its child widgets\n",
    "-  `hide` - hides a widget from view\n",
    "\n",
    "Common QWidgets include `QLabel`, `QPushButton`, `QRadioButton`, and `QComboBox`."
   ]
  },
  {
   "cell_type": "markdown",
   "metadata": {},
   "source": [
    "### 23.3.1 QLabel <a name='PyQt-QWidgets-QLabel'></a>"
   ]
  },
  {
   "cell_type": "markdown",
   "metadata": {},
   "source": [
    "A [QLabel widget](https://doc.qt.io/archives/qtforpython-5.12/PySide2/QtWidgets/QLabel.html) ",
    "displays information in text or images.  Commonly used QLabel methods include the following:\n",
	"-  `label = QLabel(#string text)` - initialization of `QLabel` using the constructor, the string will be the label or message\n",
    "-  `setAlignment` - sets the text to a certain specified alignment like left, right, center, or justify\n",
    "-  `setPixmap` - shows the image\n",
    "-  `Text` - displays label's caption\n",
    "-  `setText` - sets label's caption programmatically\n",
    "-  `linkActivated.connect(#method/slot)` - specifies a callback to invoke when a QLabel's link is activated\n",
    "-  `linkHovered.connect(#method/slot)` - specifies a callback to invoke when a mouse hovers over a QLabel's hyperlink"
   ]
  },
  {
   "cell_type": "markdown",
   "metadata": {},
   "source": [
    "### 23.3.2 QPushButton <a name='PyQt-QWidgets-QPushButton'></a>"
   ]
  },
  {
   "cell_type": "markdown",
   "metadata": {},
   "source": [
    "A [QPushButton widget](https://doc.qt.io/archives/qtforpython-5.12/PySide2/QtWidgets/QPushButton.html) ",
    "implements a button to which a signal can be attached:\n",
    "-  `button = QPushButton(#string text)` - ",
    " initializes a QPushButton object, specifying the text to show on button\n",
    "-  `button.clicked.connect(#method created to show result/slot)` - ",
    " specifies a callback to invoke when a button is clicked"
   ]
  },
  {
   "cell_type": "code",
   "execution_count": null,
   "metadata": {},
   "outputs": [],
   "source": [
    "# 23.3.2  Example of a QPushButton\n",
    "\n",
    "import sys\n",
    "\n",
    "from PyQt5.QtWidgets import QApplication\n",
    "from PyQt5.QtWidgets import QLabel\n",
    "from PyQt5.QtWidgets import QHBoxLayout\n",
    "from PyQt5.QtWidgets import QVBoxLayout\n",
    "from PyQt5.QtWidgets import QPushButton\n",
    "from PyQt5.QtWidgets import QWidget\n",
    "\n",
    "app = QApplication(sys.argv)\n",
    "window = QWidget()\n",
    "window.setWindowTitle('QHBoxLayout ButtonPyQt.py')\n",
    "\n",
    "# For vertical \n",
    "layout = QVBoxLayout()\n",
    "\n",
    "# For horizontal\n",
    "layout = QHBoxLayout()\n",
    "#layout.addWidget(QPushButton('Left'))\n",
    "leftBtn = QPushButton('Left')\n",
    "#layout.addWidget(QPushButton('Center'))\n",
    "centBtn = QPushButton('Center')\n",
    "#layout.addWidget(QPushButton('Right'))\n",
    "rightBtn = QPushButton('Right')\n",
    "\n",
    "layout.addWidget(leftBtn)\n",
    "layout.addWidget(centBtn)\n",
    "layout.addWidget(rightBtn)\n",
    "\n",
    "window.setLayout(layout)\n",
    "\n",
    "window.show()\n",
    "sys.exit(app.exec_())"
   ]
  },
  {
   "cell_type": "markdown",
   "metadata": {},
   "source": [
    "### 23.3.3 QRadioButton <a name='PyQt-QWidgets-QRadioButton'></a>"
   ]
  },
  {
   "cell_type": "markdown",
   "metadata": {},
   "source": [
	"A [QRadioButton widget](https://doc.qt.io/qtforpython/PySide6/QtWidgets/QRadioButton.html) ",
    "implements a radio button to which a signal can be attached: \n",
	"-  `radio_button = QRadioButton(#string text)` - ",
    " initializes a `QRadioButton` object, specifying the text to show on button\n",
    "-  `setChecked(boolean)` - checks an option when window is opened (default)\n",
    "-  `toggled.connect(#method created to show result/slot)` - ",
    " specifies a callback to invoke when a button is clicked\n",
    "-  `isChecked()` - returns a boolean that indicates if radio button is selected\n",
	"\n",
    "The following example shows the use of PyQt to create and initialize a `QRadioButton` object. ",
    "Unlike the previous example, it uses a class to initialize the window and create a signal method. ",
    "The class for holding the widget usually is called `Window`. ",
    "For this example, it's a `QWidget`, but it can also be a `QMainWindow`."
   ]
  },
  {
   "cell_type": "code",
   "execution_count": null,
   "metadata": {},
   "outputs": [],
   "source": [
    "#  23.3.3   Example of a QRadioButton\n",
    "\n",
    "import sys\n",
    "from PyQt5.QtWidgets import *\n",
    "\n",
    "class Window(QWidget):\n",
    "  def __init__(self):\n",
    "    QWidget.__init__(self)\n",
    "    #\n",
    "    # setting the layout\n",
    "    layout = QGridLayout()\n",
    "    self.setLayout(layout)\n",
    "    #\n",
    "    # setting the window tile\n",
    "    self.setWindowTitle(\"Radio Button PyQt Test\")       \n",
    "    #\n",
    "    message = QLabel(\"Which is true?\")\n",
    "    layout.addWidget(message, 0, 0)      \n",
    "    #\n",
    "    # setting the radio buttons and connecting the signal\n",
    "    # first radio button has the default checked set to false. \n",
    "    # if you don't use the setChecked feature, you can omit that line from the code.\n",
    "    radiobutton = QRadioButton(\" A. North is down\")\n",
    "    radiobutton.setChecked(False)\n",
    "    radiobutton.questionTrue = \"Wrong\"\n",
    "    radiobutton.toggled.connect(self.onClicked)\n",
    "    layout.addWidget(radiobutton, 1, 0)\n",
    "    #\n",
    "    radiobutton = QRadioButton(\"B. Toothbrushes are for brushing your hair\")\n",
    "    radiobutton.questionTrue = \"Wrong\"\n",
    "    radiobutton.toggled.connect(self.onClicked)\n",
    "    layout.addWidget(radiobutton, 2, 0)\n",
    "    #\n",
    "    radiobutton = QRadioButton(\"C. Clocks help you tell time\")\n",
    "    radiobutton.questionTrue = \"Correct\"\n",
    "    radiobutton.toggled.connect(self.onClicked)\n",
    "    layout.addWidget(radiobutton, 3, 0)\n",
    "    #\n",
    "    radiobutton = QRadioButton(\"D. Dogs can be naturally purple\")\n",
    "    radiobutton.questionTrue = \"Wrong\"\n",
    "    radiobutton.toggled.connect(self.onClicked)\n",
    "    layout.addWidget(radiobutton, 4, 0)\n",
    "\n",
    "  #method for the signal\n",
    "  def onClicked(self):\n",
    "    radiobutton = self.sender()\n",
    "    if radiobutton.isChecked():\n",
    "      print(\"That answer is %s! \" % (radiobutton.questionTrue))\n",
    "    else:\n",
    "      print(\"\")\n",
    "\n",
    "app = QApplication(sys.argv)\n",
    "screen = Window()\n",
    "screen.show()\n",
    "sys.exit(app.exec_())"
   ]
  },
  {
   "cell_type": "markdown",
   "metadata": {},
   "source": [
    "<span style='color:blue'>",
    "&#128073;&ensp;&ensp;**Exercise 23.3.3.1:**\n\n",
    "</span>",
    "<span style='color:navy' >",
    "In the code cell below, ",
    "change the code above to be in a `QVBoxLayout` instead of `QGridLayout`.",
    "</span>"
   ]
  },
  {
   "cell_type": "code",
   "execution_count": null,
   "metadata": {},
   "outputs": [],
   "source": [
    "\n"
   ]
  },
  {
   "cell_type": "markdown",
   "metadata": {},
   "source": [
    "### 23.3.4 QCombobox <a name='PyQt-QWidgets-QLabel-Combobox'></a>"
   ]
  },
  {
   "cell_type": "markdown",
   "metadata": {},
   "source": [
 	"A [QComboBox widget](https://doc.qt.io/qtforpython/PySide6/QtWidgets/QComboBox.html) ",
   "implements a drop-down menu:\n",
	"-  `combo = QComboBox(QWidget)` - ",
    " initializes a QComboBox widget.  Pass it a `QWidget` like a `QMainWindow` or `QWidget` object.\n",
    "-  `addItem` - adds items to the drop down box\n",
    "-  `activated[str].connect(#method created to show result/slot)` - ",
    "  specifies a callback to invoke when an object is activated\n",
	"\n",
    "The following example uses a `QMainWindow` instead of `QWidget`. ",
    "Like the `QRadioButton` example, it uses a class window."
   ]
  },
  {
   "cell_type": "code",
   "execution_count": null,
   "metadata": {},
   "outputs": [],
   "source": [
    "# 23.3.4.1 QComboBox Example\n",
    "\n",
    "import sys\n",
    "from PyQt5.QtWidgets import *\n",
    "\n",
    "class Window(QMainWindow):\n",
    "  def __init__(self):\n",
    "    super().__init__()\n",
    "    #\n",
    "    combo = QComboBox(self)\n",
    "    combo.addItem(\"\")\n",
    "    combo.addItem(\"Easter\")\n",
    "    combo.addItem(\"Halloween\")\n",
    "    combo.addItem(\"Christmas\")\n",
    "    #\n",
    "    combo.move(110, 50)\n",
    "    #\n",
    "    self.qlabel = QLabel(self)\n",
    "    self.qlabel.move(75,100)\n",
    "    #\n",
    "    combo.activated[str].connect(self.onChanged)\n",
    "    #\n",
    "    self.setGeometry(50,50,320,200)\n",
    "    self.setWindowTitle(\"Drop Down Box Test\")\n",
    "    self.show()\n",
    "\n",
    "  def onChanged(self, text):\n",
    "    self.qlabel.setText(\"Favorite Holiday: %s\" % text)\n",
    "    self.qlabel.adjustSize()\n",
    "\n",
    "app = QApplication(sys.argv)\n",
    "win = Window()\n",
    "sys.exit(app.exec_())"
   ]
  },
  {
   "cell_type": "markdown",
   "metadata": {},
   "source": [
    "## 23.4 QWidget Layout Intro <a name='PyQt-QWidget-Layout'></a>"
   ]
  },
  {
   "cell_type": "markdown",
   "metadata": {},
   "source": [
    "Qt provides four different types of layouts for a Widget\n",
    "- `QHBoxLayout` - horizonal arrangement of widgets\n",
    "- `QVBoxLayout` - vertical arrangement of widgets\n",
    "- `QGridLayout` - grid arrangement of widgets\n",
    "- `QFormLayout` - two-column form with labels usually on left and input box on right\n",
    "\n",
    "Methods for widget layout include `setLayout` and `move`:\n",
    "-  `setLayout(#layout type)` - sets the layout of the window and the layout type is passed in parameter, like QHBoxLayout()\n",
    "-  `move( #row number, #column number)` - moves a widget like QLabel, QPushButton, etc. by row and column"
   ]
  },
  {
   "cell_type": "markdown",
   "metadata": {},
   "source": [
    "<span style='color:blue'>",
    "&#128073;&ensp;&ensp;**Exercise 23.4.1:**\n\n",
    "</span>",
    "<span style='color:navy' >",
    "In the following code cell, create an example that shows if multiple layouts can be used in a common window-- e.g., QHBoxLayout and QVBoxLayout. ",
    "If not, what is the best layout to give the same output as if you did use both QHBoxLayout and QVBoxLayout?",
    "</span>"
   ]
  },
  {
   "cell_type": "code",
   "execution_count": null,
   "metadata": {},
   "outputs": [],
   "source": [
    "\n"
   ]
  }
 ],
 "metadata": {
  "kernelspec": {
   "display_name": "Python 3",
   "language": "python",
   "name": "python3"
  },
  "language_info": {
   "codemirror_mode": {
    "name": "ipython",
    "version": 3
   },
   "file_extension": ".py",
   "mimetype": "text/x-python",
   "name": "python",
   "nbconvert_exporter": "python",
   "pygments_lexer": "ipython3",
   "version": "3.9.1"
  }
 },
 "nbformat": 4,
 "nbformat_minor": 2
}
