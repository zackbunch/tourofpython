{
 "cells": [
  {
   "cell_type": "markdown",
   "metadata": {},
   "source": [
    "*********************************************************************************************************\n",
    "# A Tour of Python 3  \n",
    "version 1.0.1  \n",
    "Authors: Phil Pfeiffer, Zack Bunch, and Feyisayo Oyeniyi  \n",
    "East Tennessee State University  \n",
    "Last updated June 2021  \n",
    "*********************************************************************************************************"
   ]
  },
  {
   "cell_type": "markdown",
   "metadata": {},
   "source": [
    "# Appendix C - Python Libraries  \n",
    " C.1. [Standard Library Modules](#Python-Libraries-Standard-Library-Modules)  \n",
    " C.2. [Other Open Source Libraries](#Python-Libraries-Other-Libraries)  \n",
    " &ensp; C.2.1 [Data Analysis](#Python-Libraries-Other-Libraries-Data-Analysis)  \n",
    " &ensp;&ensp; C.2.1.1 [NumPy](#Python-Libraries-Data-Analysis-Libraries-NumPy)  \n",
    " &ensp;&ensp; C.2.1.2 [Pandas](#Python-Libraries-Data-Analysis-Libraries-Pandas)  \n",
    " &ensp;&ensp; C.2.1.3 [Matplotlib](#Python-Libraries-Data-Analysis-Libraries-Matplotlib)  \n",
    " &ensp;&ensp; C.2.1.4 [Seaborn](#Python-Libraries-Data-Analysis-Libraries-Seaborn)  \n",
    " &ensp;&ensp; C.2.1.5 [SciPy](#Python-Libraries-Data-Analysis-Libraries-SciPy)  \n",
    " &ensp; C.2.2 [Artificial Intelligence](#Python-Libraries-Other-Libraries-AI)  \n",
    " &ensp;&ensp; C.2.2.1 [Scikit-Learn](#Python-Libraries-AI-Scikit-Learn)  \n",
    " &ensp;&ensp; C.2.2.2 [TensorFlow](#Python-Libraries-AI-TensorFlow)  \n",
    " &ensp;&ensp; C.2.2.3 [Keras](#Python-Libraries-AI-Keras)  \n",
    " &ensp;&ensp; C.2.2.4 [Bokeh](#Python-Libraries-AI-Bokeh)  \n",
    " &ensp;&ensp; C.2.2.5 [Scrapy](#Python-Libraries-AI-Scrapy)  \n",
    " &ensp;&ensp; C.2.2.6 [BeautifulSoup](#Python-Libraries-AI-BeautifulSoup)  \n",
    " &ensp;&ensp; C.2.2.7 [NLTK](#Python-Libraries-AI-NLTK)  \n",
    " &ensp;&ensp; C.2.2.8 [XGBoost](#Python-Libraries-AI-XGBoost)  \n"
   ]
  },
  {
   "cell_type": "markdown",
   "metadata": {},
   "source": [
    "## C.1. Standard Library Modules <a name='Python-Libraries-Standard-Library-Modules'></a>"
   ]
  },
  {
   "cell_type": "markdown",
   "metadata": {},
   "source": [
    "To use a standard library in Python, import the module into the code using the Python’s import keyword, followed by the module's name. ",
    "Examples:\n",
    "\n",
    "&ensp; `import sys`  \n",
    "&ensp; `print(sys.argv)`  \n",
    "&ensp; `import random`  \n",
    "&ensp; `random.randrange (8)` \n",
    "\n",
    "The [Python 3.9 standard library documentation](http://docs.python.org/3/library/) ",
    "devotes 30+ sections to these supporting libraries, including libraries for addressing the following needs:\n",
    "-  text processing, including regular expressions\n",
    "-  binary data processing\n",
    "-  auxiliary data types, including temporal types, arrays, and queues\n",
    "-  numeric types, including decimal values, fractions, and random values\n",
    "-  functional programming\n",
    "-  file and directory access\n",
    "-  data persistence\n",
    "-  data compression and archiving\n",
    "-  file formats\n",
    "-  cryptography\n",
    "-  operating system services\n",
    "-  concurrent execution, including threading\n",
    "-  context variables\n",
    "-  interprocess communication and networking\n",
    "-  Internet data handling, including e-mail\n",
    "-  markup processing, including html and xml\n",
    "-  Internet protocols\n",
    "-  multimedia\n",
    "-  internationalization\n",
    "-  program frameworks, including Turtle graphics\n",
    "-  GUI interfaces\n",
    "-  development tools, including doctest\n",
    "-  debugging and profiling\n",
    "-  Python runtime services, including sys and futures\n",
    "-  custom Python interpreters\n",
    "-  Python module importation\n",
    "-  language manipulation\n",
    "-  generic output formatting\n",
    "-  Microsoft-, Unix-, and other-platform-specific modules\n",
    "\n",
    "An additional section describes superseded and undocumented modules."
   ]
  },
  {
   "cell_type": "markdown",
   "metadata": {},
   "source": [
    "## C.2. Other Open Source Libraries <a name='Python-Libraries-Other-Libraries'></a>"
   ]
  },
  {
   "cell_type": "markdown",
   "metadata": {},
   "source": [
    "Other mainstream Python libraries can be obtained with `pip`. ",
    "`pip`, a package installer for Python, installs and manages libraries and dependencies that are not part of the standard library. ",
    "`pip` comes pre-installed in the Python versions 3.4 or older. To confirm if `pip` is installed on your machine, run the following command in the console:\n",
    "\n",
    "&ensp;&ensp;&ensp; `pip --version`\n",
    "\n",
    "If `pip` is installed, it will provide an output showing the pip's version number. ",
    "Otherwise, to install it, follow the steps outlined [here.](https://pip.pypa.io/en/stable/installing/#installing-with-get-pip-py)\n",
    "\n",
    "To install packages with `pip`, use the command `pip install`. This command uses the following syntax:\n",
    "\n",
    "&ensp;&ensp;&ensp; `pip install [package name]`\n",
    "\n",
    "For example, to install the NumPy library using `pip`, do the following:\n",
    "\n",
    "&ensp;&ensp;&ensp; `pip install NumPy`",
    "\n"
   ]
  },
  {
   "cell_type": "markdown",
   "metadata": {},
   "source": [
    "### C.2.1  Data Analysis <a name='Python-Libraries-Other-Libraries-Data-Analysis'></a>"
   ]
  },
  {
   "cell_type": "markdown",
   "metadata": {},
   "source": [
    "#### C.2.1.1  NumPy <a name='Python-Libraries-Data-Analysis-Libraries-NumPy'></a>"
   ]
  },
  {
   "cell_type": "markdown",
   "metadata": {},
   "source": [
    "[NumPy](https://numpy.org/) supports n-dimensional arrays and matrices, including basic linear algebra functions on these structures. ",
    "NumPy also supports, Fourier transforms and advanced random number generation and integrates with classic languages like Fortran, C and C++.\n",
    "\n",
    "*Pros:* NumPy's extensive collection of high-level mathematical functions supports a wide range of operations on large multidimensional arrays and matrices. ",
    "NumPy arrays and matrices take up less space than Python lists. ",
    "NumPy operations on these structures are faster than Python operations on list-based representations of matrices and arrays.\n",
    "\n",
    "*Cons:* NumPy structures must be stored in contiguous areas of memory, which makes insertion and deletion operations costly."
   ]
  },
  {
   "cell_type": "markdown",
   "metadata": {},
   "source": [
    "#### C.2.1.2  Pandas <a name= 'Python-Libraries-Data-Analysis-Libraries-Pandas'></a>"
   ]
  },
  {
   "cell_type": "markdown",
   "metadata": {},
   "source": [
    "[Pandas](https://pandas.pydata.org/) stands for *Python Data Analysis Library*. ",
    "Pandas uses series and data frames to provide very fast and efficient mechanisms for managing, exploring and manipulating data. ",
    "It uses alignment and indexing to organize and label data correctly; and supports various file formats, including JSON, CSV, Excel and HDF5.\n",
    "\n",
    "*Pros:* Pandas handles large datasets efficiently, while supporting flexible and customizable access to data. ",
    "Its simple means of representing data makes analyzing datasets easy. ",
    "It has an extensive set of features, including support for handling missing data, filtering unique values, and merging and joining datasets.\n",
    "\n",
    "*Cons:* Pandas offers poor support for 3D matrices."
   ]
  },
  {
   "cell_type": "markdown",
   "metadata": {},
   "source": [
    "#### C.2.1.3 Matplotlib <a name='Python-Libraries-Data-Analysis-Libraries-Matplotlib'></a>"
   ]
  },
  {
   "cell_type": "markdown",
   "metadata": {},
   "source": [
    "[Matplotlib](https://matplotlib.org/) is a plotting library for 2D graphics. ",
    "It can be used in Python scripts, in shell scripts, in web application servers, and with other graphical user interface toolkits. ",
    "It supports the creation of different kinds of plots, using an object hierarchy to structure plots. ",
    "Plots are embedded in figure objects: box-like containers that can contain multiple axes objects, each of which corresponds to a plot.\n",
    "\n",
    "*Pros:* The level of granularity control that Matplotlib provides over plots is unrivaled.\n",
    "\n",
    "*Cons:* It's difficult to make plots interactive."
   ]
  },
  {
   "cell_type": "markdown",
   "metadata": {},
   "source": [
    "#### C.2.1.4 Seaborn <a name='Python-Libraries-Data-Analysis-Libraries-Seaborn'></a>"
   ]
  },
  {
   "cell_type": "markdown",
   "metadata": {},
   "source": [
    "[Seaborn](https://seaborn.pydata.org/) is essentially a high-level façade for the matplotlib library. ",
    "It enables users to create amplified data visuals: ",
    "presentations that help to explicate data by displaying visual contexts that can unearth non-obvious correlation between variables.\n",
    "\n",
    "*Pros:* Seaborn works well with data frames. It comes with high-level interfaces and customized themes compared matplotlib."
   ]
  },
  {
   "cell_type": "markdown",
   "metadata": {},
   "source": [
    "#### C.2.1.5 SciPy <a name='Python-Libraries-Data-Analysis-Libraries-SciPy'></a>"
   ]
  },
  {
   "cell_type": "markdown",
   "metadata": {},
   "source": [
    "[SciPy](https://www.scipy.org/) is an advanced library, comparable to NumPy. ",
    "It offers a full set of operations for matrix manipulation. ",
    "It contains modules for optimization, linear algebra, integration and statistics.\n",
    "\n",
    "*Pros:* SciPy is suitable for implementing complex computations on numerical data."
   ]
  },
  {
   "cell_type": "markdown",
   "metadata": {},
   "source": [
    "### C.2.2  Artificial Intelligence - Data Science  <a name='Python-Libraries-Other-Libraries-AI'></a>"
   ]
  },
  {
   "cell_type": "markdown",
   "metadata": {},
   "source": [
    "#### C.2.2.1  Scikit-Learn <a name='Python-Libraries-AI-Scikit-Learn'></a>"
   ]
  },
  {
   "cell_type": "markdown",
   "metadata": {},
   "source": [
    "[Scikit-Learn](https://scikit-learn.org/) is focused on machine learning models. ",
    "Its feature extraction operations are largely intended for Natural Language Processing (NLP). ",
    "It has a cross-validation feature that supports the use of multiple metrics to validate a model accuracy.\n",
    "\n",
    "*Pros:* Scikit learn robust library is suitable for any end-to-end ML project, from research through production deployments. ",
    "It is very good for working with complex data.\n",
    "\n",
    "*Con:* Scikit learn is not the right package for implementing deep learning."
   ]
  },
  {
   "cell_type": "markdown",
   "metadata": {},
   "source": [
    "#### C.2.2.2 TensorFlow <a name= 'Python-Libraries-AI-TensorFlow'></a>"
   ]
  },
  {
   "cell_type": "markdown",
   "metadata": {},
   "source": [
    "[TensorFlow](https://www.tensorflow.org/) is a great choice for working with machine intelligence at a production level scale. ",
    "It provides efficient support for manipulating mathematical expressions involving multi-dimensional arrays; ",
    "provides good support for deep neural networks and machine learning concepts; ",
    "and is highly scalable, relative to increases in machines and data set size.\n",
    "\n",
    "*Pros:* TensorFlow works effectively with single or multiple GPUs. ",
    "It provides a scalable and stable interactive multiplatform programming interface. ",
    "It can be used for speech and image recognition, text-based applications, time-series analysis and video detection.\n",
    "\n",
    "*Cons:* The computation speed is slow. TensorFlow's unique structure makes it difficult to find and debug errors."
   ]
  },
  {
   "cell_type": "markdown",
   "metadata": {},
   "source": [
    "#### C.2.2.3 Keras <a name= 'Python-Libraries-AI-Keras'></a>"
   ]
  },
  {
   "cell_type": "markdown",
   "metadata": {},
   "source": [
    "[Keras](https://keras.io/) provides an easier mechanism to express neural networks. ",
    "It also provides some of the best utilities for compiling models, processing datasets, visuaizing graphs, and more.\n",
    "\n",
    "*Pros:* Keras is modular in nature, therefore making it expressive, flexible and apt for innovative research. ",
    "It runs smoothly on both CPU and GPU.\n",
    "\n",
    "*Cons:* Compared to other libraries, Keras is relatively slow."
   ]
  },
  {
   "cell_type": "markdown",
   "metadata": {},
   "source": [
    "#### C.2.2.4 Bokeh <a name='Python-Libraries-AI-Bokeh'></a>"
   ]
  },
  {
   "cell_type": "markdown",
   "metadata": {},
   "source": [
    "[Bokeh](https://bokeh.org/) allows for dynamic visualization. It renders graphics using JavaScript and HTML, making it browser-compatible. ",
    "In bokeh, graphs are built up one layer at a time.\n",
    "\n",
    "*Pros:* Bokeh can be used for web application with a high level of interactivity. ",
    "It's also known for enabling high-performance visual presentation of large data sets in modern web browsers.\n",
    "\n",
    "*Cons:* The making of 'unconventional' charts, such as simulating forces between atoms and dragging atoms through space, ",
    "is currently beyond the scope of bokeh's library."
   ]
  },
  {
   "cell_type": "markdown",
   "metadata": {},
   "source": [
    "#### C.2.2.5 Scrapy <a name= 'Python-Libraries-AI-Scrapy'></a>"
   ]
  },
  {
   "cell_type": "markdown",
   "metadata": {},
   "source": [
    "[Scrapy](https://scrapy.org/) is a web crawling framework. It uses a crawler that automatically extracts data from web pages. ",
    "It's specifically created for downloading, cleaning and saving data from the web. ",
    "It carries out the end-to-end processing. It generates feed exports in formats such as JSON, CSV and XML.\n",
    "\n",
    "*Pros:* Scrapy requests are scheduled and processed asynchronously. ",
    "Its flexibility and versatility make it suitable for large projects.\n",
    "\n",
    "*Cons:* Its learning curve is steep."
   ]
  },
  {
   "cell_type": "markdown",
   "metadata": {},
   "source": [
    "#### C.2.2.6 BeautifulSoup <a name='Python-Libraries-AI-BeautifulSoup'></a>"
   ]
  },
  {
   "cell_type": "markdown",
   "metadata": {},
   "source": [
    "[BeautifulSoup](https://www.crummy.com/software/BeautifulSoup/) is a web scraping tool used to extract data from HTML. It is solely a parsing library.\n",
    "\n",
    "*Pros:* It's very easy to learn and effective for small projects.\n",
    "\n",
    "*Cons:* It's not ideal for large projects."
   ]
  },
  {
   "cell_type": "markdown",
   "metadata": {},
   "source": [
    "#### C.2.2.7 NLTK <a name='Python-Libraries-AI-NLTK'></a>"
   ]
  },
  {
   "cell_type": "markdown",
   "metadata": {},
   "source": [
    "[NLTK](https://www.nltk.org/), the Natural Language Tool Kit, is used mainly for solving natural language processing tasks. ",
    "NLTK is a string processing library that takes string as input and return strings or lists of strings as output. ",
    "It can be used for text tagging, stemming, classifications, regression, tokenization, and corpus tree creations. ",
    "It's the most well-known and full NLP library with many 3rd extensions.\n",
    "\n",
    "*Pros:* It automatically summarizes text, conference resolution and discourse analysis ",
    "and identifies the discourse structure of connected text (discourse relationships between sentences).\n",
    "\n",
    "*Cons:* It's difficult to learn and use, slow, and can't be used for neural network models."
   ]
  },
  {
   "cell_type": "markdown",
   "metadata": {},
   "source": [
    "#### C.2.2.8   XGBoost <a name='Python-Libraries-AI-XGBoost'></a>"
   ]
  },
  {
   "cell_type": "markdown",
   "metadata": {},
   "source": [
    "[XGBoost](https://xgboost.readthedocs.io/) stands for eXtreme Gradient Boosting. ",
    "XGBoost is an implementation of Gradient Boosting Machines (GBM). It's used for supervised learning. ",
    "It's good for speed, parallelization, implementation on single, distributed systems and out-of-core computation.\n",
    "\n",
    "*Pros:* XGBoost is very fast compared to other implementations of gradient boosting, as well as portable, flexible, and efficient. ",
    "It offers parallel tree boosting, a technique for resolving various problems."
   ]
  }
 ],
 "metadata": {
  "kernelspec": {
   "display_name": "Python 3",
   "language": "python",
   "name": "python3"
  },
  "language_info": {
   "codemirror_mode": {
    "name": "ipython",
    "version": 3
   },
   "file_extension": ".py",
   "mimetype": "text/x-python",
   "name": "python",
   "nbconvert_exporter": "python",
   "pygments_lexer": "ipython3",
   "version": "3.9.2"
  }
 },
 "nbformat": 4,
 "nbformat_minor": 2
}
