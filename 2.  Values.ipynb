{
 "cells": [
  {
   "cell_type": "markdown",
   "metadata": {},
   "source": [
    "*********************************************************************************************************\n",
    "# A Tour of Python 3  \n",
    "version 1.0.1  \n",
    "Authors: Phil Pfeiffer, Zack Bunch, and Feyisayo Oyeniyi  \n",
    "East Tennessee State University  \n",
    "Last updated June 2021  \n",
    "*********************************************************************************************************"
   ]
  },
  {
   "cell_type": "markdown",
   "metadata": {},
   "source": [
    "# 2.  Values   \n",
    " 2.1 [Numbers](#Values-Numbers)  \n",
    " &ensp; 2.1.1 [Integer and Floating Point Arithmetic](#Values-Integer-And-Floating-Point-Arithmetic)  \n",
    " &ensp; 2.1.2 [Complex Arithmetic](#Values-Complex-Arithmetic)  \n",
    " &ensp; 2.1.3 [Bignum Arithmetic](#Values-Bignum-Arithmetic)  \n",
    " &ensp; 2.1.4 [Managing Floating Point Imprecision](#Values-Floating-Point-Imprecision)  \n",
    " 2.2 [Bitwise Operators](#Values-Bitwise-Operators)  \n",
    " 2.3 [ Logical Values And Operators](#Values-Logical-Values-And-Operators)  \n",
    " &ensp; 2.3.1 [Logical Values](#Values-Logical-Values)  \n",
    " &ensp; 2.3.2 [Logical Operators](#Values-Logical-Operators)  \n",
    " 2.4 [Comparison Operators](#Values-Comparison-Operators)  \n",
    " &ensp; 2.4.1 [Relational Operators](#Values-Relational-Operators)  \n",
    " &ensp; 2.4.2 [Identity Testing Operators](#Values-Identity-Testing-Operators)  \n",
    " &ensp; 2.4.3 [Membership-Testing Operators](#Values-Membership-Testing-Operators)  \n",
    " 2.5 [None](#Values-None)  \n",
    " 2.6 [Type Testing](#Values-Type-Testing)"
   ]
  },
  {
   "cell_type": "markdown",
   "metadata": {},
   "source": [
    "## 2.1  Numbers <a name='Values-Numbers'></a>"
   ]
  },
  {
   "cell_type": "markdown",
   "metadata": {},
   "source": [
    "### 2.1.1  Integer and Floating Point Arithmetic <a name='Values-Integer-And-Floating-Point-Arithmetic'></a>"
   ]
  },
  {
   "cell_type": "markdown",
   "metadata": {},
   "source": [
    "Python supports integer and floating point numbers as built-in types.",
    "  Numeric operators include addition (+), subtraction (-), multiplication (&ast;), division (/), integer division (//), ",
    "remainder (%), and exponentiation (&ast;&ast;)."
   ]
  },
  {
   "cell_type": "code",
   "execution_count": null,
   "metadata": {},
   "outputs": [],
   "source": [
    "# 2.1.1 Integer and real number operators\n",
    "\n",
    "print( '7 + 3 = ', 7 + 3)\n",
    "print( '7 - 3 = ', 7 - 3)\n",
    "print( '7 * 3 = ', 7 * 3)\n",
    "print( '7 / 3 = ', 7 / 3)\n",
    "print( '7 // 3 = ', 7 // 3)\n",
    "print( '7 % 3 = ', 7 % 3)\n",
    "print( '7 ** 3 = ', 7 ** 3 )\n",
    "print( )\n",
    "\n",
    "print( '12.5 + 8.1 = ', 12.5 + 8.1)\n",
    "print( '12.5 - 8.1 = ', 12.5 - 8.1)\n",
    "print( '12.5 * 8.1 = ', 12.5 * 8.1)\n",
    "print( '12.5 / 8.1 = ', 12.5 / 8.1)\n",
    "print( '12.5 // 8.1 = ', 12.5 // 8.1)\n",
    "print( '12.5 % 8.1 = ', 12.5 % 8.1)\n",
    "print( '12.5 ** 8.1 = ', 12.5 ** 8.1)\n",
    "print( )\n",
    "\n",
    "# Python and operator precedence:  as usual, * and \\ supersede + and -, and parentheses change precedence\n",
    "\n",
    "print( '2 + 10 * 10 - 6/2 = ', 2 + 10 * 10 - 6/2 )\n",
    "print( '(2 + 10) * (10 - 6/2) = ', (2 + 10) * (10 - 6/2) )"
   ]
  },
  {
   "cell_type": "markdown",
   "metadata": {},
   "source": [
    "<span style='color:blue'>",
    "&#128073;&ensp;&ensp;**Exercise 2.1.1.1:**\n\n",
    "</span>",
    "<span style='color:navy'>",
    "As shown above, integer division (//) truncates any fractional result, returning an integer result. ",
    "In the following code cell, ",
    "show how // computes quotients for the following: </span>\n",
    "- <span style='color:navy'>a negative numerator and a positive denominator</span>\n",
    "- <span style='color:navy'>a positive numerator and a negative denominator</span>\n",
    "- <span style='color:navy'>a negative numerator and a negative denominator</span>\n",
    "\n",
    "<span style='color:navy'>",
    "In each case, choose values that yield nonzero results.",
    "</span>"
   ]
  },
  {
   "cell_type": "code",
   "execution_count": null,
   "metadata": {},
   "outputs": [],
   "source": []
  },
  {
   "cell_type": "markdown",
   "metadata": {},
   "source": [
    "<span style='color:blue'>",
    "&#128073;&ensp;&ensp;**Exercise 2.1.1.2:**\n\n",
    "</span>",
    "<span style='color:navy'>",
    "In the following code cell, ",
    "create an example that shows whether Python's exponentiation operator can be used to compute a square root.",
    "</span>"
   ]
  },
  {
   "cell_type": "code",
   "execution_count": null,
   "metadata": {},
   "outputs": [],
   "source": []
  },
  {
   "cell_type": "markdown",
   "metadata": {},
   "source": [
    "### 2.1.2  Complex Arithmetic <a name='Values-Complex-Arithmetic'></a>"
   ]
  },
  {
   "cell_type": "markdown",
   "metadata": {},
   "source": [
    "Python supports complex numbers as built-in types. ",
    "Per engineering practice, imaginary values are specified with a trailing `j`, as in 3+4j. ",
    "Complex operators include addition (+), subtraction (-), multiplication (&ast;), division (/), integer division (//), and exponentiation (&ast;&ast;)."
   ]
  },
  {
   "cell_type": "code",
   "execution_count": null,
   "metadata": {},
   "outputs": [],
   "source": [
    "# 2.1.2 Complex operators\n",
    "\n",
    "print('(4+7j) + (3-2j) = ', (4+7j) + (3-2j) )\n",
    "print('(4+7j) - (3-2j) = ', (4+7j) - (3-2j) )\n",
    "print('(4+7j) * (3-2j) = ', (4+7j) * (3-2j) )\n",
    "print('(4+7j) / (3-2j) = ', (4+7j) / (3-2j) )\n",
    "print('(4+7j) ** (3-2j) = ', (4+7j) ** (3-2j) )"
   ]
  },
  {
   "cell_type": "markdown",
   "metadata": {},
   "source": [
    "<span style='color:blue'>",
    "&#128073;&ensp;&ensp;**Exercise 2.1.2.1:**\n\n",
    "</span>",
    "<span style='color:navy'>",
    "In the following code cell, ",
    "show code to compute a complex modulus.  Add a comment that accounts for the result.",
    "</span>"
   ]
  },
  {
   "cell_type": "code",
   "execution_count": null,
   "metadata": {},
   "outputs": [],
   "source": []
  },
  {
   "cell_type": "markdown",
   "metadata": {},
   "source": [
    "### 2.1.3  Bignum Arithmetic <a name='Values-Bignum-Arithmetic'></a>"
   ]
  },
  {
   "cell_type": "markdown",
   "metadata": {},
   "source": [
    "The following example displays exact powers of 2 up to 2&ast;&ast;9900 -- well beyond the range of C++, C#, and Java's built-in operators.",
    "  Python uses string representations to compute with large integers (\"bignums\").",
    "  While string-based arithmetic can be slow ( O(n&ast;&ast;2) ), Python's pretty fast with numbers that are even this large.\n",
    "\n",
    "The example uses these additional constructs:\n",
    "\n",
    "- `import`.  Import statements reference Python modules and their contents - here, two functions in Python's `math` library:\n",
    "  - `log10`, which returns the base 10 logarithm of its argument\n",
    "  - `floor`, which returns the largest integer that's less than or equal to its argument\n",
    "- `print`.  Print statements accept a combination of positional and labeled arguments:\n",
    "  - All labeled arguments must follow all positional arguments\n",
    "  - The `end` labeled argument specifies a final string to output after all other arguments (default: newline)\n",
    "- `range`.  Range expressions, when iterated over, repeatedly return the next item in the sequence of values specified by its arguments, ",
    "   until the sequence is exhausted.  Range expressions can assume one of three forms:\n",
    "   -  `range(n)` - generate an ascending sequence of values from 0 to n-1 inclusive\n",
    "   -  `range(m,n)` - generate an ascending sequence of values from m to n-1 inclusive\n",
    "   -  `range(m,n,step)`\n",
    "      -  if *step* is positive, generate an ascending sequence of values from *m* to *k* &ast; *step* inclusive,  ",
    "         where *k* &ast; *step* <= n-1 < *k+1* &ast; *step*\n",
    "      -  if *step* is negative, generate a descending sequence of values from *m* to *k* &ast; *step* inclusive,  ",
    "         where *k-1* &ast; *step* < *n*-1 <= *k* &ast; *step*\n",
    "- `for`.  For statements pass each value in the list generated by its *in* expression to the statements in its body - here, print statements.\n",
    "  - *Lists* are denoted by square brackets ([...]).\n",
    "  - The list shown here is generated by an expression known as a *list comprehension*.\n",
    "    - The comprehension shown here uses Python's *range iterator* to generate the sequence 0, 100, 200, ... 9900.\n",
    "    - It uses a `for` expression to retrieve each number from the sequence, appending each in turn to the comprehension-generated list."
   ]
  },
  {
   "cell_type": "code",
   "execution_count": null,
   "metadata": {},
   "outputs": [],
   "source": [
    "# 2.1.3.a Illustrating bignum arithmetic (version 1)\n",
    "# math - a library module that defines math routines\n",
    "#   math.floor - return the smallest integer equal to or greater than its argument\n",
    "#   math.log10 - return the logarithm base 10 of its argument\n",
    "\n",
    "from math import log10, floor\n",
    "\n",
    "for value in [item for item in range(0, 10000, 100)]:\n",
    "  print(value, floor(log10(2**value))+1, 2**value)\n",
    "  print('---')"
   ]
  },
  {
   "cell_type": "markdown",
   "metadata": {},
   "source": [
    "In lieu of paired delimiters like `{...}` or `begin...end`, Python uses indentation to delimit a compound statement's body. ",
    " Each of the two statements in this `for` loop's body are indented from the initial `for` clause by two blanks. ",
    " While an arbitrary sequence of tabs and spaces can be used set off statement blocks, ",
    " within any given block, the indentation must be consistent; ",
    " Python's parser treats irregularities in block indentations as syntax errors.",
    " For example, if a block's first line begins with a tab and a space, then its second must as well: ",
    " any other leading combination of spaces and tabs will be treated as erroneous. \n",
    "\n",
    "To avoid confusion, style guides recommend against mixing tabs and spaces. ",
    " This guide, for example, uses spaces to delimit all compound statements. ",
    " It was prepared with the help of Notepad++, which supports an option for auto-converting tabs to spaces.\n",
    "\n",
    "Python style guides recommend using four spaces to indent each block. ",
    "These notebooks, rather, follow Ruby's two-space convention, ",
    "in the belief that this provides a better balance between making block structure visible and keeping code from marching off the right margin."
   ]
  },
  {
   "cell_type": "markdown",
   "metadata": {},
   "source": [
    "<span style='color:blue'>",
    "&#128073;&ensp;&ensp;**Exercise 2.1.3.1:**\n\n",
    "</span>",
    "<span style='color:navy'>",
    "In the following markdown cell, ",
    "explain the significance of `floor(log10(2**value))+1` in terms that a sixth grader can understand.  ",
    "*Hint*: If the code's purpose isn't apparent, try replacing `range(0, 10000, 100)` with `range(0,31)`. ",
    "</span>\n",
    "***\n"
   ]
  },
  {
   "cell_type": "markdown",
   "metadata": {},
   "source": [
    "\n"
   ]
  },
  {
   "cell_type": "markdown",
   "metadata": {},
   "source": [
    "***\n"
   ]
  },
  {
   "cell_type": "markdown",
   "metadata": {},
   "source": [
    "This next example shows an equivalent approach to generating powers of 2. ",
    "Instead of using a range expression to return exponents, its list comprehension returns *tuples* of values, ",
    " which are then accessed by the loop's first print statement."
   ]
  },
  {
   "cell_type": "code",
   "execution_count": null,
   "metadata": {},
   "outputs": [],
   "source": [
    "# 2.1.3.b Illustrating bignum arithmetic (version 2)\n",
    "# math - a library module that defines math routines\n",
    "#   math.floor - return the smallest integer equal to or greater than its argument\n",
    "#   math.log10 - return the logarithm base 10 of its argument\n",
    "\n",
    "from math import log10, floor\n",
    "\n",
    "for result in [(value, floor(log10(2**value))+1, 2**value) for value in range(0, 10000, 100)]:\n",
    "  print(result[0], result[1], result[2])\n",
    "  print('---')"
   ]
  },
  {
   "cell_type": "markdown",
   "metadata": {},
   "source": [
    "Tuples, like lists, order a collection of values in a sequence, are indexed using numbers in square brackets, and ",
    " are *0-indexed* sequences: their elements are numbered 0, 1, 2, and so forth. ",
    " Tuples differ from lists in two key ways:\n",
    "-  Unlike lists, which are constructed using square brackets ([...]), tuples are constructed using parentheses ( (...) ).\n",
    "-  Unlike lists, tuples are *immutable*: once defined, they can't be changed.\n",
    "\n",
    "This distinction between lists and tuples allows sequences to be represented in one of two ways: \n",
    "-  Using lists, which support shared references and updating in place.\n",
    "-  Using tuples, which have fixed hashes and can be used to key associative arrays.\n",
    "\n",
    "Lists and tuples are covered in detail in the unit on [builtin data structures](./5.%20%20Builtin%20data%20structures.ipynb)."
   ]
  },
  {
   "cell_type": "markdown",
   "metadata": {},
   "source": [
    "<span style='color:blue'>",
    "&#128073;&ensp;&ensp;**Exercise 2.1.3.2:**\n\n",
    "</span>",
    "<span style='color:navy'>",
    "In the following code cell, ",
    "modify either of the two bignum exercises above, ",
    "collapsing its two `print` statements into a single `print` statement, using `print`'s `end` named parameter.  Hints:</span>\n",
    "-  <span style='color:navy'>Python functions can be designed to accept a combination of positional and named parameters.</span>\n",
    "   -  <span style='color:navy'>The syntax for a named parameter like `end` is `end='...some string...'`.</span>\n",
    "   -  <span style='color:navy'>All of a function call's named parameters must follow all of that function's positional parameters.</span>\n",
    "-  <span style='color:navy'>`print`'s `end` parameter changes the default end-of-output character, `\\n.`",
    "</span>"
   ]
  },
  {
   "cell_type": "code",
   "execution_count": null,
   "metadata": {},
   "outputs": [],
   "source": []
  },
  {
   "cell_type": "markdown",
   "metadata": {},
   "source": [
    "### 2.1.4 Floating Point Imprecision <a name='Values-Floating-Point-Imprecision'></a>"
   ]
  },
  {
   "cell_type": "markdown",
   "metadata": {},
   "source": [
    "Python's floating point math operations are subject to round-off error. ",
    "The two examples shown here illustrate the erratic nature of these errors and the speed with which they can accumulate. ",
    "This first example computes cubes of integers, using multiplication and exponentiation."
   ]
  },
  {
   "cell_type": "code",
   "execution_count": null,
   "metadata": {},
   "outputs": [],
   "source": [
    "# 2.1.4.a Illustrating the imprecise nature of floating point arithmetic\n",
    "\n",
    "for value in [i**3 for i in range(0,10)]:  print('the cube root of', value, 'is', value**(1/3))"
   ]
  },
  {
   "cell_type": "markdown",
   "metadata": {},
   "source": [
    "This second example uses integer and floating point arithmetic to generate two supposedly equivalent series of values, ",
    " while illustrating one erroneous and one effective strategy for doing comparisons with floating point values.\n",
    "\n",
    "This example uses the following additional Python constructs:\n",
    "- Two of Python's assignment operators\n",
    "  - `=` - simple assignment\n",
    "  - `+=` - incremental summing update; i.e., `a += b` is equivalent to `a = a+b` \n",
    "- Python's C-language-like binary string formatting operator, `%`.\n",
    "  - `sa % sb` denotes the string obtained by updating percent-sign-prefixed items in string `sa` with values from sequence `sb`,",
    "    according to a fairly elaborate set of formatting conventions",
    "    [described in a later unit](./5.%20%20Builtin%20data%20structures.ipynb#Printf-Style-String-Formatting).\n",
    "  - This feature allows users to specify how much space a value should occupy, ",
    "    how that value should be justified within this field, and, for numbers, how to format them.\n",
    "- A second string formatting mechanism, `f-strings`.\n",
    "  - The expression `f\"fs\"` denotes the string obtained by updating each `{bracketed_expression}` in string `fs` by",
    "    the value obtained by evaluating `bracketed_expression`, according to conventions",
    "    [described in a later unit](./5.%20%20Builtin%20data%20structures.ipynb#F-String-Style-String-Formatting).\n",
    "  - This feature provides a simple means for using Python defaults to format strings.\n",
    "- `str` - Python's built-in string constructor, which is used to convert an integer to a string representation.\n",
    "- Two Python built-in library functions:\n",
    "  - `abs` - return a number's absolute value\n",
    "  - `min` - return the minimum value in a collection of values\n",
    "- A variant of Python's import statement, *from module import entity1, entity2, ...*, which allows access to module objects by name.\n",
    "\n",
    "The example's primary point: **compare floating point values for proximity-- not equality**."
   ]
  },
  {
   "cell_type": "code",
   "execution_count": null,
   "metadata": {},
   "outputs": [],
   "source": [
    "# 2.1.4.b  illustrating floating point imprecision and how to manage it\n",
    "# sys - is a library module that defines system-specific parameters\n",
    "#   sys.float_info.epsilon - smallest distinguishable increment between floating-point values\n",
    "#   sys.float_info.mant_dig - number of digits in a floating point value's mantissa\n",
    "# math - a library module that defines math routines\n",
    "#   math.log10 - return the logarithm base 10 of its argument\n",
    "#   math.floor - return the largest integer equal to or smaller than its argument\n",
    "\n",
    "import sys\n",
    "from sys import float_info\n",
    "import math\n",
    "from math import log10, floor\n",
    "\n",
    "# Specify the range of values over which to do computations\n",
    "\n",
    "first_int = 200\n",
    "last_int = first_int + 6\n",
    "\n",
    "# Set up the floating point machinery for tracking the integer value\n",
    "\n",
    "# fp_induction_variable - the floating point value that tracks integer_value\n",
    "# delta - how much fp_induction_variable changes on each iteration\n",
    "\n",
    "# the code uses division and multiplication to force the use of IEEE 754 math\n",
    "# to manipulate fp_induction_variable\n",
    "delta = 0.1\n",
    "fp_induction_variable = delta * first_int\n",
    "\n",
    "for this_int in range(first_int, last_int+1):\n",
    "  # use fp_induction_variable to compute  a floating point equivalent for this_int\n",
    "  #\n",
    "  fp_equivalent_for_this_int = fp_induction_variable / delta\n",
    "  \n",
    "  # show the two values to clarify the ensuing comparison\n",
    "  # -. first, compute the number of fractional digits to show in fp_equivalent_for_this_int\n",
    "  #\n",
    "  this_int_magnitude = min(abs(this_int), abs(fp_equivalent_for_this_int))\n",
    "  if this_int_magnitude == 0:\n",
    "    this_int_digit_count = 1  # can't take log10 of 0\n",
    "  else:\n",
    "    this_int_digit_count = floor(log10(this_int_magnitude)) + 1\n",
    "  comparison_tolerance = float_info.epsilon * ( 10 ** this_int_digit_count )\n",
    "  fractional_digits_in_tolerance = abs(min(0, floor(log10(comparison_tolerance))))\n",
    "  #\n",
    "  fractional_digits_to_show = abs(min(0, ( fractional_digits_in_tolerance - float_info.mant_dig )))\n",
    "  \n",
    "  # -. then, show the two values\n",
    "  #    need to first generate the format string for fp_equivalent_for_this_int \n",
    "  #    %.<n>lf shows fp_equivalent_for_this_int's value to <n> places\n",
    "  #\n",
    "  fp_format_string =  '%slf' % ( '%.' + str(fractional_digits_to_show) )\n",
    "  print( ( 'int and float values are %s and ' + fp_format_string ) % ( this_int, fp_equivalent_for_this_int ) )\n",
    "  \n",
    "  # do an exact comparison between the \"appropriately\" scaled float and the int that it tracks\n",
    "  #\n",
    "  if this_int == fp_equivalent_for_this_int:\n",
    "    result = 'equal'\n",
    "  else:\n",
    "    result = 'not equal'\n",
    "  print( f'exact comparison says values are {result}' )\n",
    "  \n",
    "  # now, check for approximate equality, within the tolerances provided by IEEE 754 math\n",
    "  #\n",
    "  if abs(this_int - fp_equivalent_for_this_int) <= comparison_tolerance:\n",
    "    result = 'equal'\n",
    "  else:\n",
    "    result = 'not equal'\n",
    "  print( f'approximate comparison (tolerance: {comparison_tolerance}) says values are {result}' )\n",
    "  print( '----' )  #\n",
    "  # finally, update fp_induction_variable for the next iteration\n",
    "  #\n",
    "  fp_induction_variable += delta"
   ]
  },
  {
   "cell_type": "markdown",
   "metadata": {},
   "source": [
    "<span style='color:blue'>",
    "&#128073;&ensp;&ensp;**Exercise 2.1.4.1:**\n\n",
    "</span>",
    "<span style='color:navy'>",
    "In the previous example, experiment with `first_value`, decreasing and increasing it, looking for a discernable pattern in ",
    " how quickly `fp_equivalent_for_this_int` degrades. ",
    " Discuss the results of your experimentation in the markdown cell below. ",
    "Try at least five larger and five smaller values for `first_value`. ",
    "</span>\n",
    "***\n"
   ]
  },
  {
   "cell_type": "markdown",
   "metadata": {},
   "source": [
    "\n"
   ]
  },
  {
   "cell_type": "markdown",
   "metadata": {},
   "source": [
    "***\n"
   ]
  },
  {
   "cell_type": "markdown",
   "metadata": {},
   "source": [
    "<span style='color:blue'>",
    "&#128073;&ensp;&ensp;**Exercise 2.1.4.2:**\n\n",
    "</span>",
    "<span style='color:navy'>",
    "In the following code cell,",
    "</span>\n",
    "- <span style='color:navy'>",
    "Use `print`'s `end` keyword to collapse the two final `print` statements in the above example to a single, equivalent `print` statement.",
    "</span>\n",
    "- <span style='color:navy'>",
    "Identify the function in ",
    "[Python's math library](https://docs.python.org/3/library/math.html) \n",
    "  that does a comparison tolerance check like the one that ends this example.\n",
    "  Then revise the example, using this function to replace that check.",
    "</span>"
   ]
  },
  {
   "cell_type": "code",
   "execution_count": null,
   "metadata": {},
   "outputs": [],
   "source": []
  },
  {
   "cell_type": "markdown",
   "metadata": {},
   "source": [
    "## 2.2 Bitwise Operators <a name='Values-Bitwise-Operators'></a>"
   ]
  },
  {
   "cell_type": "markdown",
   "metadata": {},
   "source": [
    "Python supports bitwise operations on numbers.  Bitwise operations include negation (~), and (&),",
    " or (|), exclusive or (^), shift left (<<), and shift right (>>).\n",
    "\n",
    "The following example uses these additional Python constructs:\n",
    "- Python's built-in",
    " [*format* function](./5.%20%20Builtin%20data%20structures.ipynb#Format-Style-String-Formatting),",
    " which is used to output decimal values as 5-digit binary values, for clarity.\n",
    "  - In the examples' '>05b', format specifier,\n",
    "    - '>' specifies right justification\n",
    "    - '0' specifies 0 padding\n",
    "    - 'b' specifies binary output\n",
    "- `print`'s `sep` parameter, which specifies an inter-argument separator (default: ' ').\n",
    "  - Python functions can be designed to accept a combination of positional and named parameters\n",
    "  - All named parameters must follow all positional parameters\n"
   ]
  },
  {
   "cell_type": "code",
   "execution_count": null,
   "metadata": {},
   "outputs": [],
   "source": [
    "# 2.2 bitwise operators\n",
    "\n",
    "print( 'bitwise negation of 21 = ', ~21 )\n",
    "print( ' -  21 in binary: ', format(  21, '>05b') )\n",
    "print( ' - ~21 in binary: ', format( ~21, '>05b') )\n",
    "print( )\n",
    "print( 'bitwise and of 21 and 10 = ', 21&10 )\n",
    "print( ' -    21 in binary: ', format(    21, '>07b') )\n",
    "print( ' -    10 in binary: ', format(    10, '>07b') )\n",
    "print( ' - 21&10 in binary: ', format( 21&10, '>07b') )\n",
    "print( )\n",
    "print( 'bitwise  or of 21 and 10 = ', 21|10 )\n",
    "print( ' -    21 in binary: ', format(    21, '>07b') )\n",
    "print( ' -    10 in binary: ', format(    10, '>07b') )\n",
    "print( ' - 21|10 in binary: ', format( 21|10, '>07b') )\n",
    "print( )\n",
    "print( 'bitwise exclusive or of 21 and 14 = ', 21^14 )\n",
    "print( ' -    21 in binary: ', format(    21, '>07b') )\n",
    "print( ' -    14 in binary: ', format(    14, '>07b') )\n",
    "print( ' - 21^14 in binary: ', format( 21^14, '>07b') )\n",
    "print( )\n",
    "print( 'bit-shift left of 21 by 2 = ', 21<<2 )\n",
    "print( ' -    21 in binary: ', format(    21, '>07b') )\n",
    "print( ' - 21<<2 in binary: ', format( 21<<2, '>07b') )\n",
    "print( )\n",
    "print( 'bit-shift right of 21 by 1 = ', 21>>1 )\n",
    "print( ' -    21 in binary: ', format(    21, '>07b') )\n",
    "print( ' - 21>>1 in binary: ', format( 21>>1, '>07b') )"
   ]
  },
  {
   "cell_type": "markdown",
   "metadata": {},
   "source": [
    "## 2.3 Logical Values And Operators  <a name='Values-Logical-Values-And-Operators'></a>"
   ]
  },
  {
   "cell_type": "markdown",
   "metadata": {},
   "source": [
    "### 2.3.1 Logical Values <a name='Values-Logical-Values'></a>"
   ]
  },
  {
   "cell_type": "markdown",
   "metadata": {},
   "source": [
    "Python supports two logical values: `True` and `False`.  Python also supports *coercions*--",
    " implicit type changes-- from other values to `True` and `False`:\n",
    "-  Like C, Python treats 0 as `False` and other atomic values as `True`.\n",
    "-  Like XSLT, Python treats empty collections as `False` and non-empty collections as `True`.\n",
    "\n",
    "This example uses the following additional Python construct:\n",
    "-  Python's C-like ternary `if` expression, &ensp;&ensp; *one_result* `if` *something is True*` else` *another_result* \n"
   ]
  },
  {
   "cell_type": "code",
   "execution_count": null,
   "metadata": {},
   "outputs": [],
   "source": [
    "# 2.3.1  Python coercions from non-logical to logical values\n",
    "\n",
    "print( 'zero is treated as %s' % ('True' if 0 else 'False') )\n",
    "print( 'nonzero numbers like 3.7 are treated as %s' % ('True' if 3.7 else 'False') )\n",
    "print( )\n",
    "print( 'the empty string, \"\", is treated as %s' % ('True' if \"\" else 'False') )\n",
    "print( 'nonempty strings like \"1\" are treated as %s' % ('True' if \"1\" else 'False') )\n",
    "print( )\n",
    "print( 'empty collections like the empty list, [], are treated as %s' % ('True' if [] else 'False') )\n",
    "print( 'nonempty collections like [1] are treated as %s' % ('True' if [1] else 'False') )"
   ]
  },
  {
   "cell_type": "markdown",
   "metadata": {},
   "source": [
    "<span style='color:blue'>",
    "&#128073;&ensp;&ensp;**Exercise 2.3.1.1:**\n\n",
    "</span>",
    "<span style='color:navy'>",
    "In the following code cell, ",
    "revise the second, more complex ",
    "[Floating Point Imprecision](#Values-Floating-Point-Imprecision) ",
    "example, replacing if-then-else statements with assignment statements that use ternary \"if\" expressions.",
    "</span>"
   ]
  },
  {
   "cell_type": "code",
   "execution_count": null,
   "metadata": {},
   "outputs": [],
   "source": []
  },
  {
   "cell_type": "markdown",
   "metadata": {},
   "source": [
    "### 2.3.2 Logical Operators <a name='Values-Logical-Operators'></a>"
   ]
  },
  {
   "cell_type": "markdown",
   "metadata": {},
   "source": [
    "Python supports three basic logical operators: `and`, `or`, and `not`."
   ]
  },
  {
   "cell_type": "code",
   "execution_count": null,
   "metadata": {},
   "outputs": [],
   "source": [
    "# 2.3.2 - illustrating Python's logical operators\n",
    "\n",
    "print( 'not True = ', not True )\n",
    "print( 'not False = ', not False )\n",
    "print( )\n",
    "print( 'False and False = ', False and False )\n",
    "print( 'True and False = ', True and False )\n",
    "print( 'True and True = ', True and True )\n",
    "print( )\n",
    "print( 'False or False = ', False or False )\n",
    "print( 'True or False = ', True or False )\n",
    "print( 'True or True = ', True or True )"
   ]
  },
  {
   "cell_type": "markdown",
   "metadata": {},
   "source": [
    "## 2.4 Comparison Operators  <a name='Values-Comparison-Operators'></a>\n"
   ]
  },
  {
   "cell_type": "markdown",
   "metadata": {},
   "source": [
    "### 2.4.1 Relational Operators <a name='Values-Relational-Operators'></a>"
   ]
  },
  {
   "cell_type": "markdown",
   "metadata": {},
   "source": [
    "Python supports the six classic relational operators:  < (less than), <= (less than or equal),",
    " == (equal), != (not equal), >= (greater than or equal), and > (greater than).  Relational operators may be cascaded, as shown below."
   ]
  },
  {
   "cell_type": "code",
   "execution_count": null,
   "metadata": {},
   "outputs": [],
   "source": [
    "# 2.4.1 - cascaded relational operators \n",
    "\n",
    "print( '4 < 5 < 6 = ', 4 < 5 < 6 )\n",
    "print( '4 < 6 < 5 = ', 4 < 6 < 5 )\n",
    "print( )\n",
    "print( '9 > 8 > 2 = ', 9 > 8 > 2 )\n",
    "print( '8 > 9 > 2 = ', 8 > 9 > 2 )\n",
    "print( )\n",
    "print( '4 < 6 < 8 > 7 > 5 = ', 4 < 6 < 8 > 7 > 5 )\n",
    "print( '5 < 4 < 12 > 8 > 4 = ', 5 < 4 < 12 > 8 > 4 )"
   ]
  },
  {
   "cell_type": "markdown",
   "metadata": {},
   "source": [
    "### 2.4.2 Identity-Testing Operators <a name='Values-Identity-Testing-Operators'></a>"
   ]
  },
  {
   "cell_type": "markdown",
   "metadata": {},
   "source": [
    "Python supports two identity-testing operators: `is` and `is not`"
   ]
  },
  {
   "cell_type": "code",
   "execution_count": null,
   "metadata": {},
   "outputs": [],
   "source": [
    "# 2.4.2.a - illustrating identity testing in strings \n",
    "\n",
    "x = 'hello'\n",
    "y = x             # string assignment initially creates a shared reference\n",
    "\n",
    "print( 'after assigning', x, 'to x and executing x=y' )\n",
    "print( '\\'x is y\\' = ', x is y )\n",
    "print( '\\'x is not y\\' = ', x is not y )\n",
    "\n",
    "y = y + ' world'  # for strings, updates end sharing\n",
    "print()\n",
    "print( '\\'x is y\\' = ', x is y )\n",
    "print( '\\'x is not y\\' = ', x is not y )"
   ]
  },
  {
   "cell_type": "code",
   "execution_count": null,
   "metadata": {},
   "outputs": [],
   "source": [
    "# 2.4.2.b - illustrating identity testing in lists \n",
    "\n",
    "x = [1, 2, 3]\n",
    "y = x   # list assignment creates a shared reference\n",
    "\n",
    "print( 'after assigning', x, 'to x and executing x=y' )\n",
    "print( '\\'x is y\\' = ', x is y )\n",
    "print( '\\'x is not y\\' = ', x is not y )\n",
    "\n",
    "y.append(4)   # for lists, updates preserve sharing\n",
    "print()\n",
    "print( 'after appending 4 to y' )\n",
    "print( '\\'x is y\\' = ', x is y )\n",
    "print( '\\'x is not y\\' = ', x is not y )"
   ]
  },
  {
   "cell_type": "markdown",
   "metadata": {},
   "source": [
    "<span style='color:blue'>",
    "&#128073;&ensp;&ensp;**Exercise 2.4.2.1:**\n\n",
    "</span>",
    "<span style='color:navy'>",
    "In the following code cell, take this last example one step further. ",
    "Set y = x+[4], then check if x is y.  Add a comment that explains the result. ",
    "</span>"
   ]
  },
  {
   "cell_type": "code",
   "execution_count": null,
   "metadata": {},
   "outputs": [],
   "source": []
  },
  {
   "cell_type": "markdown",
   "metadata": {},
   "source": [
    "### 2.4.3 Membership-Testing Operators <a name='Values-Membership-Testing-Operators'></a>"
   ]
  },
  {
   "cell_type": "markdown",
   "metadata": {},
   "source": [
    "Python supports two membership-testing operators: `in` and `not in`"
   ]
  },
  {
   "cell_type": "code",
   "execution_count": null,
   "metadata": {},
   "outputs": [],
   "source": [
    "# 2.4.3.a - illustrating membership testing in lists\n",
    "\n",
    "print( '3 in [1, 2, 3] = ', 3 in [1, 2, 3] )\n",
    "print( '4 in [1, 2, 3] = ', 4 in [1, 2, 3] )\n",
    "print()\n",
    "print( '3 not in [1, 2, 3] = ', 3 not in [1, 2, 3] )\n",
    "print( '4 not in [1, 2, 3] = ', 4 not in [1, 2, 3] )\n",
    "print()\n",
    "print()\n",
    "\n",
    "print('4 in [2.5, 6, 9, 1, 4] = ', 4 in [2.5, 6, 9, 1, 4])\n",
    "print('15 in [2.5, 6, 9, 1, 4] = ', 15 in [2.5, 6, 9, 1, 4])\n",
    "print('9 in [2.5, 6, 9, 1, 4] = ', 9 in [2.5, 6, 9, 1, 4])\n",
    "print()\n",
    "print('4 not in [2.5, 6, 9, 1, 4] = ', 4 not in [2.5, 6, 9, 1, 4])\n",
    "print('15 not in [2.5, 6, 9, 1, 4] = ', 15 not in [2.5, 6, 9, 1, 4])\n",
    "print('9 not in [2.5, 6, 9, 1, 4] = ', 9 not in[2.5, 6, 9, 1, 4])"
   ]
  },
  {
   "cell_type": "code",
   "execution_count": null,
   "metadata": {},
   "outputs": [],
   "source": [
    "# 2.4.3.b - illustrating membership testing in strings\n",
    "\n",
    "print( '\\'\\' in \\'abc\\' = ',     '' in 'abc' )\n",
    "print( '\\'a\\' in \\'abc\\' = ',   'a' in 'abc' )\n",
    "print( '\\'bc\\' in \\'abc\\' = ', 'bc' in 'abc' )\n",
    "print( '\\'ac\\' in \\'abc\\' = ', 'ac' in 'abc' )\n",
    "print()\n",
    "print( '\\'\\' not in \\'abc\\' = ',     '' not in 'abc' )\n",
    "print( '\\'a\\' not in \\'abc\\' = ',   'a' not in 'abc' )\n",
    "print( '\\'bc\\' not in \\'abc\\' = ', 'bc' not in 'abc' )\n",
    "print( '\\'ac\\' not in \\'abc\\' = ', 'ac' not in 'abc' )\n",
    "print()\n",
    "print()\n",
    "\n",
    "print( '\\'\\' in \\'color\\' = ',     '' in 'color' )\n",
    "print( '\\'r\\' in \\'color\\' = ',   'r' in 'color' )\n",
    "print( '\\'cl\\' in \\'color\\' = ', 'cl' in 'color' )\n",
    "print( '\\'co\\' in \\'color\\' = ', 'co' in 'color' )\n",
    "print()\n",
    "print( '\\'\\' not in \\'color\\' = ',     '' not in 'color' )\n",
    "print( '\\'r\\' not in \\'color\\' = ',   'r' not in 'color' )\n",
    "print( '\\'cl\\' not in \\'color\\' = ', 'cl' not in 'color' )\n",
    "print( '\\'co\\' not in \\'color\\' = ', 'co' not in 'color' )"
   ]
  },
  {
   "cell_type": "markdown",
   "metadata": {},
   "source": [
    "Membership testing in strings tests for substring membership. Note that the empty string is a member of every string, including itself."
   ]
  },
  {
   "cell_type": "markdown",
   "metadata": {},
   "source": [
    "## 2.5 None  <a name='Values-None'></a>"
   ]
  },
  {
   "cell_type": "markdown",
   "metadata": {},
   "source": [
    "Formal languages routinely define a special value, like *nil* or *null*, that denotes the absence of a value. ",
    "In Python, this value is `None`."
   ]
  },
  {
   "cell_type": "markdown",
   "metadata": {},
   "source": [
    "## 2.6 Type testing  <a name='Values-Type-Testing'></a>"
   ]
  },
  {
   "cell_type": "markdown",
   "metadata": {},
   "source": [
    "Python equates types with classes.\n",
    "-  To get an object *o*'s type, use *type(o)*.\n",
    "-  To test whether *o* is of a given type *type*, use *isinstance(o, type)*.\n",
    "-  To test whether *o* is of a given set of types (*type_1*, ... *type_n*), use *isinstance(o, (type_1, ... type_n))*."
   ]
  },
  {
   "cell_type": "code",
   "execution_count": null,
   "metadata": {},
   "outputs": [],
   "source": [
    "# 2.6.a - types of various values\n",
    "\n",
    "for value in (1, 'a', 'abc', 1.0, 1+3j, True, [1, 2, 3], (1, 2, 3), None):\n",
    "  print( f'type of {value} is {type(value)}' )"
   ]
  },
  {
   "cell_type": "code",
   "execution_count": null,
   "metadata": {},
   "outputs": [],
   "source": [
    "# 2.6.b - type-testing for various combinations of values and types\n",
    "# Type-testing for None is in Jupyter is inconvenient for two reasons:\n",
    "# - Python 3 eliminated 'NoneType', which, in Python 2, was the type of 'None'\n",
    "# - Jupyter, unlike the Python interpreter, rejects the expression *type(None)*\n",
    "\n",
    "for value in (1, 'a', 'abc', 1.0, 1+3j, True, [1, 2, 3], (1, 2, 3), None):\n",
    "  for type_ in (object, int, str, float, complex, bool, list, tuple):\n",
    "    print( f\"{value} is {'' if isinstance(value, type_) else 'not '}of type {type_}\" )\n",
    "  print( f\"{value} is {'' if value is None else 'not '}of type NoneType\" )\n",
    "  print('---')"
   ]
  },
  {
   "cell_type": "code",
   "execution_count": null,
   "metadata": {},
   "outputs": [],
   "source": [
    "# 2.6.c - type-testing for cross-type values\n",
    "\n",
    "metatypes =  (((int, float), 'real number'),)\n",
    "metatypes += (((int, float, complex), 'number'),)\n",
    "metatypes += (((int, float, complex, str), 'scalar'),)\n",
    "metatypes += (((str, tuple, list), 'sequence'),)\n",
    "metatypes += (((tuple, list, dict), 'collection'),)\n",
    "\n",
    "for value in (1, 'a', 'abc', 1.0, 1+3j, True, [1, 2, 3], (1, 2, 3), None):\n",
    "  for (metatype, metatype_name) in metatypes:\n",
    "    print( f\"{value} is {'' if isinstance(value,metatype) else 'not '}of type {metatype_name}\" )\n",
    "  print('---')"
   ]
  }
 ],
 "metadata": {
  "kernelspec": {
   "display_name": "Python 3",
   "language": "python",
   "name": "python3"
  },
  "language_info": {
   "codemirror_mode": {
    "name": "ipython",
    "version": 3
   },
   "file_extension": ".py",
   "mimetype": "text/x-python",
   "name": "python",
   "nbconvert_exporter": "python",
   "pygments_lexer": "ipython3",
   "version": "3.9.2"
  }
 },
 "nbformat": 4,
 "nbformat_minor": 2
}
