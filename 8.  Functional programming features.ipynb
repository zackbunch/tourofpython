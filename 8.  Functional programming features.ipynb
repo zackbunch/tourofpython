{
 "cells": [
  {
   "cell_type": "markdown",
   "metadata": {},
   "source": [
    "*********************************************************************************************************\n",
    "# A Tour of Python 3  \n",
    "version 1.0.1  \n",
    "Authors: Phil Pfeiffer, Zack Bunch, and Feyisayo Oyeniyi  \n",
    "East Tennessee State University  \n",
    "Last updated June 2021  \n",
    "*********************************************************************************************************"
   ]
  },
  {
   "cell_type": "markdown",
   "metadata": {},
   "source": [
    "# 8.  Functional Programming Features  </a>"
   ]
  },
  {
   "cell_type": "markdown",
   "metadata": {},
   "source": [
    "Functional programming is an approach to writing logic that uses sequence-based operators. ",
    "This focus on sequences of values, as opposed to individual values, tends to produce shorter, more compact codes ",
    "that are easier to read and maintain.",
    "  Sequence-based coding also exposes opportunities for parallelizing codes - a key factor in the growing interest in languages like Scala.\n",
    "\n",
    "Earlier sections of the Tour highlighted four functional programming constructs:\n",
    "-  slicing - the use of [x:y:z] style syntax to subset sequences \n",
    "-  comprehensions - the use of [... for ... in ....] to construct lists\n",
    "-  filters - the use of \"if ...\" clauses in comprehensions to limit a comprehension's content\n",
    "-  lambdas - nameless functions\n",
    "\n",
    "A fifth construct, reduction, is shown below. ",
    "Reduction is comparable to database aggregation with a parameterized aggregation operator. ",
    "Python's reduction function, `functools.reduce`, takes three arguments:\n",
    "-  a function that\n",
    "    -  accepts two arguments:\n",
    "        -  a value that represents an intermediate result\n",
    "        -  a value that represents the next value in a sequence to reduce\n",
    "    -  returns the result of continuing the reduction, using these two inputs\n",
    "-  a sequence to reduce\n",
    "-  an initial value, for priming the intermediate result. ",
    "   This initial value is typically the identify element for the operation that's driving the reduction.\n",
    "\n",
    "Reductions can be conceptualized in terms of accumulator loops, which they typically replace.  Intuitively,\n",
    "-  the reduction's first, function parameter corresponds the accumulator loop's body\n",
    "    -  the function's parameter's intermediate result value parameter corresponds to the in-loop occurrence of the accumulator variable\n",
    "    -  the function's parameter's intermediate next value parameter corresponds to intermediate values of the induction variable\n",
    "-  the reduction's second parameter corresponds to the values over which the loop iterates\n",
    "-  the reduction's third parameter corresponds to the accumulator variable's initial value, set outside the loop.\n",
    "\n",
    "Much of what reductions can compute can be computed using comprehensions. ",
    "One exception involves a reduction's ability to reduce a list to a 0-dimensional scalar value, as shown below."
   ]
  },
  {
   "cell_type": "code",
   "execution_count": null,
   "metadata": {},
   "outputs": [],
   "source": [
    "# 8.a  Sample \"for\" loop for computing 'any'\n",
    "\n",
    "def my_any(list_to_reduce):\n",
    "  result = False\n",
    "  for next_in_list in list_to_reduce:\n",
    "    result = result or next_in_list\n",
    "  return result\n",
    "\n",
    "print( 'my_any( [] ) is', my_any( [] ) )\n",
    "print( 'my_any( [False, False, False] ) is', my_any( [False, False, False] ) )\n",
    "print( 'my_any( [False, True,  False] ) is', my_any( [False, True,  False] ) )"
   ]
  },
  {
   "cell_type": "code",
   "execution_count": null,
   "metadata": {},
   "outputs": [],
   "source": [
    "# 8.b  Sample reduction for computing 'any'\n",
    "\n",
    "from functools import reduce\n",
    "my_any = lambda list_to_reduce: reduce( lambda result, next_in_list: result or next_in_list, list_to_reduce, False )\n",
    "\n",
    "print( 'my_any( [] ) is', my_any( [] ) )\n",
    "print( 'my_any( [False, False, False] ) is', my_any( [False, False, False] ) )\n",
    "print( 'my_any( [False, True,  False] ) is', my_any( [False, True,  False] ) )"
   ]
  },
  {
   "cell_type": "code",
   "execution_count": null,
   "metadata": {},
   "outputs": [],
   "source": [
    "# 8.c  Python built-in for computing 'any'\n",
    "\n",
    "print( 'any( [] ) is', any( [] ) )\n",
    "print( 'any( [False, False, False] ) is', any( [False, False, False] ) )\n",
    "print( 'any( [False, True,  False] ) is', any( [False, True,  False] ) )"
   ]
  },
  {
   "cell_type": "code",
   "execution_count": null,
   "metadata": {},
   "outputs": [],
   "source": [
    "# 8.d  Sample \"for\" loop for computing 'all'\n",
    "\n",
    "def my_all(list_to_reduce):\n",
    "  result = True\n",
    "  for next_in_list in list_to_reduce:\n",
    "    result = result and next_in_list\n",
    "  return result\n",
    "\n",
    "print( 'my_all( [] ) is', my_all( [] ) )\n",
    "print( 'my_all( [False, True, False] ) is', my_all( [False, True, False] ) )\n",
    "print( 'my_all( [True, True,  True] ) is',  my_all( [True,  True, True] ) )"
   ]
  },
  {
   "cell_type": "code",
   "execution_count": null,
   "metadata": {},
   "outputs": [],
   "source": [
    "# 8.e  Sample reduction for computing 'all'\n",
    "\n",
    "from functools import reduce\n",
    "my_all = lambda list_to_reduce:  reduce( lambda result, next_in_list: result and next_in_list, list_to_reduce, True )\n",
    "\n",
    "print( 'my_all( [] ) is', my_all( [] ) )\n",
    "print( 'my_all( [False, True, False] ) is', my_all( [False, True, False] ) )\n",
    "print( 'my_all( [True, True,  True] ) is',  my_all( [True,  True, True] ) )"
   ]
  },
  {
   "cell_type": "code",
   "execution_count": null,
   "metadata": {},
   "outputs": [],
   "source": [
    "# 8.f  Python built-in for computing 'all'\n",
    "\n",
    "print( 'all( [] ) is', all( [] ) )\n",
    "print( 'all( [False, False, False] ) is', all( [False, True, False] ) )\n",
    "print( 'all( [True, True,  True] ) is',   all( [True, True,  True]) )"
   ]
  },
  {
   "cell_type": "code",
   "execution_count": null,
   "metadata": {},
   "outputs": [],
   "source": [
    "# 8.g  Sample \"for\" loop for computing 'sum'\n",
    "\n",
    "def my_sum(list_to_reduce):\n",
    "  result = 0\n",
    "  for next_in_list in list_to_reduce:\n",
    "    result += next_in_list\n",
    "  return result\n",
    "\n",
    "print( 'my_sum( [] ) is', my_sum( [] ) )\n",
    "print( 'my_sum( [1, 1, 3, 5, 8] ) is', my_sum( [1, 1, 3, 5, 8] ) )"
   ]
  },
  {
   "cell_type": "code",
   "execution_count": null,
   "metadata": {},
   "outputs": [],
   "source": [
    "# 8.h  reduction that's equivalent to Python's 'sum' built-in\n",
    "\n",
    "from functools import reduce\n",
    "my_sum = lambda list_to_reduce:  reduce( lambda result, next_in_list: result + next_in_list, list_to_reduce, 0 )\n",
    "\n",
    "print( 'my_sum( [] ) is', my_sum( [] ) )\n",
    "print( 'my_sum( [1, 1, 3, 5, 8] ) is', my_sum( [1, 1, 3, 5, 8] ) )"
   ]
  },
  {
   "cell_type": "code",
   "execution_count": null,
   "metadata": {},
   "outputs": [],
   "source": [
    "# 8.i  Python built-in for computing 'sum'\n",
    "\n",
    "print( 'sum( [] ) is', sum( [] ) )\n",
    "print( 'sum( [1, 1, 3, 5, 8] ) is', sum( [1, 1, 3, 5, 8] ) )"
   ]
  },
  {
   "cell_type": "markdown",
   "metadata": {},
   "source": [
    "<span style='color:blue'>",
    "&#128073;&ensp;&ensp;**Exercise 8.1:**\n\n",
    "</span>",
    "<span style='color:navy'>",
    "In the following markdown cell, ",
    "describe the effect of using `-` instead of `+` in `my_sum` to reduce `list_to_reduce`.",
    "</span>\n",
    "***\n"
   ]
  },
  {
   "cell_type": "markdown",
   "metadata": {},
   "source": [
    "\n"
   ]
  },
  {
   "cell_type": "markdown",
   "metadata": {},
   "source": [
    "***\n"
   ]
  },
  {
   "cell_type": "markdown",
   "metadata": {},
   "source": [
    "<span style='color:blue'>",
    "&#128073;&ensp;&ensp;**Exercise 8.2:**\n\n",
    "</span>",
    "<span style='color:navy'>",
    "In the following code cell, ",
    "create a lambda that uses `reduce` to compute the product of a sequence's values.",
    "</span>"
   ]
  },
  {
   "cell_type": "code",
   "execution_count": null,
   "metadata": {},
   "outputs": [],
   "source": []
  },
  {
   "cell_type": "code",
   "execution_count": null,
   "metadata": {},
   "outputs": [],
   "source": [
    "# 8.j  reduction that generalizes Python's 'min' built-in\n",
    "\n",
    "from functools import reduce\n",
    "from math import inf\n",
    "my_min = lambda list_to_reduce: \\\n",
    "   reduce( lambda result, next_in_list: result if result <= next_in_list else next_in_list, list_to_reduce, inf )\n",
    "\n",
    "print( 'my_min( [] ) is', my_min( [] ) )\n",
    "print( 'my_min( [1, 1, 3, 5, 8] ) is', my_min( [1, 1, 3, 5, 8] ) )"
   ]
  },
  {
   "cell_type": "markdown",
   "metadata": {},
   "source": [
    "<span style='color:blue'>",
    "&#128073;&ensp;&ensp;**Exercise 8.3:**\n\n",
    "</span>",
    "<span style='color:navy'>",
    "In the following code cell, ",
    "create an example that shows a value for which `my_min` returns a result and `min` fails.",
    "</span>"
   ]
  },
  {
   "cell_type": "code",
   "execution_count": null,
   "metadata": {},
   "outputs": [],
   "source": []
  },
  {
   "cell_type": "markdown",
   "metadata": {},
   "source": [
    "<span style='color:blue'>",
    "&#128073;&ensp;&ensp;**Exercise 8.4:**\n\n",
    "</span>",
    "<span style='color:navy'>",
    "In the following code cell, ",
    "create a lambda that uses `reduce` to compute a sequence's maximum. ",
    "Similar to `my_min`, this lambda should return a result for empty sequences.",
    "</span>"
   ]
  },
  {
   "cell_type": "code",
   "execution_count": null,
   "metadata": {},
   "outputs": [],
   "source": []
  },
  {
   "cell_type": "code",
   "execution_count": null,
   "metadata": {},
   "outputs": [],
   "source": [
    "# 8.k  the identity function for lists as a reduction\n",
    "# while this reduction alters nothing in the original list, it's a starting point for defining more complex reductions\n",
    "\n",
    "from functools import reduce\n",
    "identity = lambda list_to_reduce:  reduce (lambda result, next_in_list: result + [next_in_list], list_to_reduce, [])\n",
    "\n",
    "print( 'identity( [] ) is', identity( [] ) )\n",
    "print( 'identity( [1, 1, 3, 5, 8] ) is', identity( [1, 1, 3, 5, 8] ) )"
   ]
  },
  {
   "cell_type": "code",
   "execution_count": null,
   "metadata": {},
   "outputs": [],
   "source": [
    "# 8.l  an anti-reduction that uses a reduction to expand a list\n",
    "\n",
    "from functools import reduce\n",
    "expand = lambda list_to_reduce, initial_gapcount, gapcounts, null_item: \\\n",
    "  reduce( \\\n",
    "    lambda result, next_in_list: \\\n",
    "      result + [next_in_list[0]] + next_in_list[1]*[null_item], \\\n",
    "      zip(list_to_reduce, gapcounts), \\\n",
    "      initial_gapcount*[null_item]\\\n",
    "  )\n",
    "\n",
    "print( expand([], 1, [], '*') )\n",
    "print( expand(['a'], 1, [1], '_') )\n",
    "print( expand(['a', 'b'], 3, [1, 2], '++') )\n",
    "print( expand(['a', 'b', 'c', 'd'], 1, [1, 1, 1, 1], '*') )\n",
    "print( expand(['a', 'b', 'c', 'd'], 3, [1, 2, 0, 1], None) )"
   ]
  },
  {
   "cell_type": "markdown",
   "metadata": {},
   "source": [
    "<span style='color:blue'>",
    "&#128073;&ensp;&ensp;**Exercise 8.5:**\n\n",
    "</span>",
    "<span style='color:navy'>",
    "In the following code cell, ",
    "create a lambda that uses `reduce` to implement the equivalent of `str.join`. ",
    "Include examples to illustrate the code's operation, including joins involving empty strings. ",
    "Hint: The lambda will need an extra parameter for the join string.",
    "</span>"
   ]
  },
  {
   "cell_type": "code",
   "execution_count": null,
   "metadata": {},
   "outputs": [],
   "source": []
  }
 ],
 "metadata": {
  "kernelspec": {
   "display_name": "Python 3",
   "language": "python",
   "name": "python3"
  },
  "language_info": {
   "codemirror_mode": {
    "name": "ipython",
    "version": 3
   },
   "file_extension": ".py",
   "mimetype": "text/x-python",
   "name": "python",
   "nbconvert_exporter": "python",
   "pygments_lexer": "ipython3",
   "version": "3.9.2"
  }
 },
 "nbformat": 4,
 "nbformat_minor": 2
}
