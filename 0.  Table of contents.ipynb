{
 "cells": [
  {
   "cell_type": "markdown",
   "metadata": {},
   "source": [
    "*********************************************************************************************************\n",
    "# A Tour of Python 3  \n",
    "version 1.0.1  \n",
    "Authors: Phil Pfeiffer, Zack Bunch, and Feyisayo Oyeniyi  \n",
    "East Tennessee State University  \n",
    "Last updated June 2021  \n",
    "*********************************************************************************************************"
   ]
  },
  {
   "cell_type": "markdown",
   "metadata": {},
   "source": [
    "# Table of Contents <a name='table-of-contents'></a>\n",
    "## Part 1 - Introduction\n",
    "[1. Introduction](./1.%20%20Introduction.ipynb)  \n",
    "## Part 2 - The Language\n",
    "[2. Values](./2.%20%20Values.ipynb)  \n",
    "[3. Objects and Identifiers](./3.%20%20Objects%20and%20Identifiers.ipynb)  \n",
    "[4. Interactive help features](./4.%20%20Interactive%20help%20features.ipynb)  \n",
    "[5. Builtin data structures](./5.%20%20Builtin%20data%20structures.ipynb)  \n",
    "[6. Control structures](./6.%20%20Control%20structures.ipynb)  \n",
    "[7. Functions](./7.%20%20Functions.ipynb)  \n",
    "[8. Functional programming features](./8.%20%20Functional%20programming%20features.ipynb)  \n",
    "[9. File processing](./9.%20%20File%20processing.ipynb)  \n",
    "[10. Classes](./10.%20Classes.ipynb)  \n",
    "[11. OO programming in Python](./11.%20OO%20programming%20in%20Python.ipynb)  \n",
    "[12. Modules](./12.%20Modules.ipynb)  \n",
    "[13. Packages](./13.%20Packages.ipynb)  \n",
    "[14. Command line processing](./14.%20Command%20line%20processing.ipynb)  \n",
    "## Part 3 - Additional Packages and Libraries\n",
    "[15. Threads, Processes, Parallelism, and Concurrency](./15.%20Threads,%20Processes,%20Parallelism,%20and%20Concurrency.ipynb)  \n",
    "[16. Unit Testing - Doctest and Unittest](./16.%20Unit%20Testing%20-%20Doctest%20and%20Unittest.ipynb)  \n",
    "[17. ChainMaps](./17.%20ChainMaps.ipynb)  \n",
    "[18. Math and CMath](./18.%20Math%20and%20CMath.ipynb)  \n",
    "[19. NumPy](./19.%20NumPy.ipynb)  \n",
    "[20. Matrices with NumPy and SciPy](./20.%20Matrices%20with%20NumPy%20and%20SciPy.ipynb)  \n",
    "[21. Matplotlib](./21.%20Matplotlib.ipynb)  \n",
    "[22. Tkinter](./22.%20Tkinter.ipynb)  \n",
    "[23. PyQT](./23.%20PyQT.ipynb)  \n",
    "[24. Django](./24.%20Django.ipynb)  \n",
    "[25. Implementing REST in Python](./25.%20Implementing%20REST%20in%20Python.ipynb)  \n",
    "[26. Game Development With PyGame](./26.%20Game%20Development%20With%20PyGame.ipynb)  \n",
    "## Appendices\n",
    "[Appendix A - Invoking a Python Interpreter](./Appendix%20A%20-%20Invoking%20a%20Python%20Interpreter.ipynb)  \n",
    "[Appendix B - Python IDEs - VS Code, VS 2019, PyDev, PyCharm](./Appendix%20B%20-%20Python%20IDEs.ipynb)  \n",
    "[Appendix C - Python Libraries](./Appendix%20C%20-%20Python%20Libraries.ipynb)  \n",
    "[Appendix D - Sample Python Programs](./Appendix%20D%20-%20Sample%20Python%20Programs.ipynb)  \n",
    "[Appendix E - Afterword](./Appendix%20E%20-%20Afterword.ipynb) "
   ]
  }
 ],
 "metadata": {
  "kernelspec": {
   "display_name": "Python 3",
   "language": "python",
   "name": "python3"
  },
  "language_info": {
   "codemirror_mode": {
    "name": "ipython",
    "version": 3
   },
   "file_extension": ".py",
   "mimetype": "text/x-python",
   "name": "python",
   "nbconvert_exporter": "python",
   "pygments_lexer": "ipython3",
   "version": "3.9.2"
  }
 },
 "nbformat": 4,
 "nbformat_minor": 2
}
