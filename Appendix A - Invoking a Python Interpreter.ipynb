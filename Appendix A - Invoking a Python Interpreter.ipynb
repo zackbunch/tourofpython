{
 "cells": [
  {
   "cell_type": "markdown",
   "metadata": {},
   "source": [
    "*********************************************************************************************************\n",
    "# A Tour of Python 3  \n",
    "version 1.0.1  \n",
    "Authors: Phil Pfeiffer, Zack Bunch, and Feyisayo Oyeniyi  \n",
    "East Tennessee State University  \n",
    "Last updated June 2021  \n",
    "*********************************************************************************************************"
   ]
  },
  {
   "cell_type": "markdown",
   "metadata": {},
   "source": [
    "# Appendix A. Invoking a Python Interpreter  \n",
    " A.1 [Installing a Python Interpreter](#Invoking-Python-Installation)  \n",
    " A.2 [Windows environment](#Invoking-Python-Under-Windows)  \n",
    " &ensp; A.2.1 [As an interactive command line interpreter](#Invoking-Python-Under-Windows-CLI)  \n",
    " &ensp; A.2.2  [From the Python interactive environment](#Invoking-Python-Under-Windows-IDLE)  \n",
    " &ensp;&ensp; A.2.2.1 [From the Windows program startup menu](#Invoking-Python-Under-Windows-IDLE-from-Windows-Start-Menu)  \n",
    " &ensp;&ensp; A.2.2.2 [From the IDLE environment proper](#Invoking-Python-Under-Windows-IDLE-from-IDLE)  \n",
    " &ensp; A.2.3  [From the command line](#Invoking-Python-Under-Windows-from-CMD-EXE)  \n",
    " &ensp;&ensp; A.2.3.1 [Interactively](#Invoking-Python-Under-Windows-from-CMD-EXE-as-Prompt)  \n",
    " &ensp;&ensp; A.2.3.2 [Using a command-line command to run a program](#Invoking-Python-Under-Windows-from-CMD-EXE-as-Program)"
   ]
  },
  {
   "cell_type": "markdown",
   "metadata": {},
   "source": [
    "## A.1  Installing a Python Interpreter <a name='Invoking-Python-Installation'></a>"
   ]
  },
  {
   "cell_type": "markdown",
   "metadata": {},
   "source": [
    "The following assumes that the latest stable release of Python has been downloaded and installed from\n",
    " [Python's Download Page](https://www.python.org/downloads/).\n",
    " As of this writing,\n",
    "- the current stable release was 3.9.2. \n",
    "- the various implementations of this release, including  implementations for POSIX, Microsoft, and Mac platforms, can be seen\n",
    " [here](http://www.python.org/download/releases/).\n",
    "- the page that shows Windows releases was [here](https://www.python.org/downloads/release/python-370/).\n",
    "\n",
    "Ensure Python is installed to *default install directory*.\n",
    " Also, when installing Python, ensure the Python directory is included in the *system's PATH variable*."
   ]
  },
  {
   "cell_type": "markdown",
   "metadata": {},
   "source": [
    "## A.2. Windows environment <a name='Invoking-Python-Under-Windows'></a>"
   ]
  },
  {
   "cell_type": "markdown",
   "metadata": {},
   "source": [
    "This section presents five ways in which Python can be invoked from the Windows environment. "
   ]
  },
  {
   "cell_type": "markdown",
   "metadata": {},
   "source": [
    "### A.2.1 As an interactive command line interpreter <a name= 'Invoking-Python-Under-Windows-CLI'></a>"
   ]
  },
  {
   "cell_type": "markdown",
   "metadata": {},
   "source": [
    "From the Windows program startup menu, \n",
    "- Locate the Python 3.9 folder\n",
    "- In the folder, locate Python (command line)\n",
    "- Double click on this icon\n",
    "- You should see a window entitled `Select Python 3.9`\n",
    "- Enter the command `1+2`, followed  by a return\n",
    "- Enter the command `exit()`, then follow directions\n",
    "\n",
    "**Note:** Python uses indentation to delimit blocks.\n",
    " As a rule, enter all commands flush left, unless block structure requires otherwise.\n"
   ]
  },
  {
   "cell_type": "markdown",
   "metadata": {},
   "source": [
    "### A.2.2 From the Python interactive environment <a name='Invoking-Python-Under-Windows-IDLE'></a>"
   ]
  },
  {
   "cell_type": "markdown",
   "metadata": {},
   "source": [
    "#### A.2.2.1 From the Windows program startup menu <a name='Invoking-Python-Under-Windows-IDLE-from-Windows-Start-Menu'></a>"
   ]
  },
  {
   "cell_type": "markdown",
   "metadata": {},
   "source": [
    "- Locate the Python 3.9 folder\n",
    "- In the folder, locate IDLE (Python GUI)\n",
    "- Double click on this icon.  This should open a window entitled *Python 3.9.2*.\n",
    "- Depending on IDLE's current state, this window might open as a minimized window, requiring Windows Taskbar activation\n",
    "- Enter the command  `1+2`, followed by a return"
   ]
  },
  {
   "cell_type": "markdown",
   "metadata": {},
   "source": [
    "#### A.2.2.2  From the IDLE environment proper <a name='Invoking-Python-Under-Windows-IDLE-from-IDLE'></a>"
   ]
  },
  {
   "cell_type": "markdown",
   "metadata": {},
   "source": [
    "- After starting IDLE, open a new edit window, in either of two ways:\n",
    "  - by selecting `File\\New File`\n",
    "  - by entering `Control-N`. Either should open a window entitled *Untitled*\n",
    "- Enter `print(1+2)` into this window\n",
    "- Run this code, in one of two ways\n",
    "  - by selecting `Run\\Run Module`\n",
    "  - by typing the F5 key\n",
    "     IDLE will require you to save this code to a file before running it.\n",
    "     For this demo, save the code as C:\\temp\\temp.py\n",
    "- You should see the result in the window entitled \"Python 3.8.0 Shell\"\n",
    "- Finish by closing both windows.\n"
   ]
  },
  {
   "cell_type": "markdown",
   "metadata": {},
   "source": [
    "### A.2.3 From the command line <a name='Invoking-Python-Under-Windows-from-CMD-EXE'></a>"
   ]
  },
  {
   "cell_type": "markdown",
   "metadata": {},
   "source": [
    "#### A.2.3.1 Interactively <a name= 'Invoking-Python-Under-Windows-from-CMD-EXE-as-Prompt'></a>"
   ]
  },
  {
   "cell_type": "markdown",
   "metadata": {},
   "source": [
    "To update the current `cmd.exe` window,\n",
    "- Raise a Windows command prompt window.\n",
    "  - Note:  you can do this by entering `cmd` into the textbox in the Windows startup menu.\n",
    "- Ensure that the Python home directory is in the command prompt window's command path.\n",
    "  - To check if this directory is on the command path, do either of the following:\n",
    "    - Enter the Windows command `echo %PATH%`.\n",
    "    - Enter the Windows command `set` then find the line that starts `Path=`.\n",
    "  - If this output-- the Path environment variable's string--\n",
    "    lacks a reference to the Python installation directory-- here, assumed to be C:\\Python39\\ --\n",
    "    - Execute the command `set Path=%Path%;C:\\Python39`.  Do **not** leave spaces around the =\n",
    "    - Enter either of those two commands to confirm that Path now includes  C:\\Python39\n",
    "\n",
    "To include (say) C:\\Python39\\ in every `cmd.exe` window's initial path string,\n",
    "- Enter `path` in the Windows startup window\n",
    "- Look for and select either of the two options, depending on your preference:\n",
    "  - `Edit environment variables for your account` - this should expose a dialogue window; changing its entries will just affect your account.\n",
    "  - `Edit system environment variables`\n", 
    "     -  This should expose a System Properties window; changing its entries will affect all system accounts.\n",
    "     -  In this window's \"Advanced\" tab, select \"environment variables\". \n",
    "        This should raise a self-explanatory menu that will allow you to change `Path`.\n",
    "- Add the Python directory that contains python.exe to the path.\n",
    "- Back out of all menus, okaying all changes as you go.\n",
    "\n",
    "To verify that the change to your environment succeeded,\n",
    "- Close `cmd.exe` if it's currently open.  You'll need to do this in order for the change to take effect.\n",
    "- (Re)start `cmd.exe.\n",
    "- At the command line, enter the command `python`.\n",
    "  - You should now see the Python command prompt.\n",
    "  - Enter `1+2`, followed by a return.\n",
    "  - Enter `Control-Z` or `exit()` to exit the interactive session.\n"
   ]
  },
  {
   "cell_type": "markdown",
   "metadata": {},
   "source": [
    "#### A.2.3.2 Using a command-line command to run a program <a name= 'Invoking-Python-Under-Windows-from-CMD-EXE-as-Program'></a>"
   ]
  },
  {
   "cell_type": "markdown",
   "metadata": {},
   "source": [
    "- Raise a command window whose Path environment variable references Python's installation directory, as described above.\n",
    "- Open a file named (say) C:\\temp\\temp.py in a text editor.\n",
    "- Edit this file so that it contains one line that reads `print(1+2)`. \n",
    "- Position this line flush left in the file.\n",
    "- From the command prompt, enter the command `python c:\\temp\\temp.py`\n",
    "\n",
    "**Note**:  `print(1+2)` is needed instead of `1+2` because \n",
    "the interactive Python interpreter implicitly redirects the output of top-level \"expression statements\" like `1+2` to the user's console. \n",
    "In non-interactive contexts, printout must be requested explicitly."
   ]
  }
 ],
 "metadata": {
  "kernelspec": {
   "display_name": "Python 3",
   "language": "python",
   "name": "python3"
  },
  "language_info": {
   "codemirror_mode": {
    "name": "ipython",
    "version": 3
   },
   "file_extension": ".py",
   "mimetype": "text/x-python",
   "name": "python",
   "nbconvert_exporter": "python",
   "pygments_lexer": "ipython3",
   "version": "3.9.2"
  }
 },
 "nbformat": 4,
 "nbformat_minor": 2
}
