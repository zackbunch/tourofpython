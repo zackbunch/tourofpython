{
 "cells": [
  {
   "cell_type": "markdown",
   "metadata": {},
   "source": [
    "*********************************************************************************************************\n",
    "# A Tour of Python 3  \n",
    "version 1.0.1  \n",
    "Authors: Phil Pfeiffer, Zack Bunch, and Feyisayo Oyeniyi  \n",
    "East Tennessee State University  \n",
    "Last updated June 2021  \n",
    "*********************************************************************************************************"
   ]
  },
  {
   "cell_type": "markdown",
   "metadata": {},
   "source": [
    "# Appendix E. Afterword"
   ]
  },
  {
   "cell_type": "markdown",
   "metadata": {},
   "source": [
    "One takeway from my Spring 2021 offering of 'Python for Programmers' was a sense of how much more could be added the Tour. ",
    "Apart from material on Python's standard library and more examples of constructs like comprehensions, ",
    " the following is a partial list of topics for a master's class on Python programming:\n",
    "- `yield` vs. `yield from`\n",
    "- the semantics of `super` and criticisms thereof\n",
    "- metaclasses\n",
    "- compile-time type checking, including\n",
    "  -  emerging standards for [type hinting](https://docs.python.org/3/library/typing.html)\n",
    "  -  [open-source type checking utilities](https://www.infoworld.com/article/3575079/4-python-type-checkers-to-keep-your-code-clean.html), ",
    "     including utilities that use gradual type checking and full-on type inference\n",
    "- [implementation strategies for Python dicts](https://stackoverflow.com/questions/327311/how-are-pythons-built-in-dictionaries-implemented)\n",
    "- increasing Python's [recursion limit](https://docs.python.org/3/library/sys.html#sys.setrecursionlimit) ",
    "  and [thread stack size](https://stackoverflow.com/questions/5061582/setting-stacksize-in-a-python-script)\n",
    "- [altering Python's method resolution order (MRO)](http://stupidpythonideas.blogspot.com/2015/12/can-you-customize-method-resolution.html)\n",
    "- [monkey patching](https://stackoverflow.com/questions/5626193/what-is-monkey-patching)\n",
    "- [Python Enhancement Proposals (PEPs)](https://www.python.org/dev/peps/pep-0001/)\n",
    "\n",
    "For now, however, I plan to heed a classic observation about the perils of authorship, ",
    " from an authority who apparently spent plenty of time on writing, proofreading, and revising manuscripts:\n",
    "\n",
    " &ensp;&ensp;&ensp; `But beyond this, my son, be warned: the writing of many books is endless, and excessive devotion to books is wearying to the body.` <br>",
    " &ensp;&ensp;&ensp;&ensp;&ensp;&ensp; \\-\\- Ecclesiastes 12:12, *New American Standard Bible*, 1995 Translation\n",
    "\n",
    "Comments about, corrections to, and other suggestions for improvements to the Tour may be e-mailed to phil@etsu.edu. ",
    "While I don't guarantee an immediate response, due to the vagaries of academic work, I'll do what I can to respond ",
    " as time and circumstance permit. \n",
    "\n",
    "\\-\\- Phil Pfeiffer, June 2021"
   ]
  }
 ],
 "metadata": {
  "kernelspec": {
   "display_name": "Python 3",
   "language": "python",
   "name": "python3"
  },
  "language_info": {
   "codemirror_mode": {
    "name": "ipython",
    "version": 3
   },
   "file_extension": ".py",
   "mimetype": "text/x-python",
   "name": "python",
   "nbconvert_exporter": "python",
   "pygments_lexer": "ipython3",
   "version": "3.9.2"
  }
 },
 "nbformat": 4,
 "nbformat_minor": 2
}
